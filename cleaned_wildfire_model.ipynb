{
 "cells": [
  {
   "cell_type": "code",
   "execution_count": null,
   "metadata": {
    "colab": {
     "base_uri": "https://localhost:8080/",
     "height": 17
    },
    "id": "Nl5eRWL7XHjh",
    "outputId": "c51e7917-2efa-4b87-eec8-701c719044e0"
   },
   "outputs": [
    {
     "data": {
      "text/html": [
       "\n",
       "            <style>\n",
       "                .geemap-dark {\n",
       "                    --jp-widgets-color: white;\n",
       "                    --jp-widgets-label-color: white;\n",
       "                    --jp-ui-font-color1: white;\n",
       "                    --jp-layout-color2: #454545;\n",
       "                    background-color: #383838;\n",
       "                }\n",
       "\n",
       "                .geemap-dark .jupyter-button {\n",
       "                    --jp-layout-color3: #383838;\n",
       "                }\n",
       "\n",
       "                .geemap-colab {\n",
       "                    background-color: var(--colab-primary-surface-color, white);\n",
       "                }\n",
       "\n",
       "                .geemap-colab .jupyter-button {\n",
       "                    --jp-layout-color3: var(--colab-primary-surface-color, white);\n",
       "                }\n",
       "            </style>\n",
       "            "
      ],
      "text/plain": [
       "<IPython.core.display.HTML object>"
      ]
     },
     "metadata": {},
     "output_type": "display_data"
    }
   ],
   "source": [
    "import geemap\n",
    "import ee\n",
    "\n",
    "ee.Authenticate()\n",
    "# Replace 'your-project-id' with your actual Google Cloud Project ID\n",
    "ee.Initialize(project='california-fire-model')\n",
    "\n",
    "Map = geemap.Map()\n",
    "california = ee.FeatureCollection(\"TIGER/2018/States\").filter(ee.Filter.eq('NAME', 'California'))"
   ]
  },
  {
   "cell_type": "markdown",
   "metadata": {
    "id": "7wK2VvKoJnUz"
   },
   "source": [
    "Use percentile-based thresholds for better balance\n",
    "This does not misrepresent reality — it re-scales the labels to allow balanced learning and visualization."
   ]
  },
  {
   "cell_type": "markdown",
   "metadata": {
    "id": "CUcQdAxlKBg3"
   },
   "source": [
    "This isn’t “lying with data” — it’s binning based on relative fire risk, which helps CNN learn general patterns, not absolute counts.\n"
   ]
  },
  {
   "cell_type": "markdown",
   "metadata": {
    "id": "EC2O0KfRJxCG"
   },
   "source": [
    " Fire frequency (burned years) across California:\n",
    "Most areas: 0–2 fires in 21 years → makes up ~80%+\n",
    "\n",
    "Some hotspots: 15–20 fires in 21 years → limited spatially\n",
    "\n",
    "Very few areas: fall in that 5–10 fire count range (~24%–48% recurrence)\n",
    "\n",
    "So your medium bin (5–10 years) captures a very narrow group, and statistically, it's valid that it's nearly empty — but it’s not helpful for visualization or model training."
   ]
  },
  {
   "cell_type": "code",
   "execution_count": null,
   "metadata": {
    "colab": {
     "base_uri": "https://localhost:8080/",
     "height": 17
    },
    "id": "v7UQ6LehTt4K",
    "outputId": "c7174e06-58ab-4a41-c455-e2275270f361"
   },
   "outputs": [
    {
     "data": {
      "text/html": [
       "\n",
       "            <style>\n",
       "                .geemap-dark {\n",
       "                    --jp-widgets-color: white;\n",
       "                    --jp-widgets-label-color: white;\n",
       "                    --jp-ui-font-color1: white;\n",
       "                    --jp-layout-color2: #454545;\n",
       "                    background-color: #383838;\n",
       "                }\n",
       "\n",
       "                .geemap-dark .jupyter-button {\n",
       "                    --jp-layout-color3: #383838;\n",
       "                }\n",
       "\n",
       "                .geemap-colab {\n",
       "                    background-color: var(--colab-primary-surface-color, white);\n",
       "                }\n",
       "\n",
       "                .geemap-colab .jupyter-button {\n",
       "                    --jp-layout-color3: var(--colab-primary-surface-color, white);\n",
       "                }\n",
       "            </style>\n",
       "            "
      ],
      "text/plain": [
       "<IPython.core.display.HTML object>"
      ]
     },
     "metadata": {},
     "output_type": "display_data"
    },
    {
     "data": {
      "application/javascript": [
       "\n",
       "    async function download(id, filename, size) {\n",
       "      if (!google.colab.kernel.accessAllowed) {\n",
       "        return;\n",
       "      }\n",
       "      const div = document.createElement('div');\n",
       "      const label = document.createElement('label');\n",
       "      label.textContent = `Downloading \"${filename}\": `;\n",
       "      div.appendChild(label);\n",
       "      const progress = document.createElement('progress');\n",
       "      progress.max = size;\n",
       "      div.appendChild(progress);\n",
       "      document.body.appendChild(div);\n",
       "\n",
       "      const buffers = [];\n",
       "      let downloaded = 0;\n",
       "\n",
       "      const channel = await google.colab.kernel.comms.open(id);\n",
       "      // Send a message to notify the kernel that we're ready.\n",
       "      channel.send({})\n",
       "\n",
       "      for await (const message of channel.messages) {\n",
       "        // Send a message to notify the kernel that we're ready.\n",
       "        channel.send({})\n",
       "        if (message.buffers) {\n",
       "          for (const buffer of message.buffers) {\n",
       "            buffers.push(buffer);\n",
       "            downloaded += buffer.byteLength;\n",
       "            progress.value = downloaded;\n",
       "          }\n",
       "        }\n",
       "      }\n",
       "      const blob = new Blob(buffers, {type: 'application/binary'});\n",
       "      const a = document.createElement('a');\n",
       "      a.href = window.URL.createObjectURL(blob);\n",
       "      a.download = filename;\n",
       "      div.appendChild(a);\n",
       "      a.click();\n",
       "      div.remove();\n",
       "    }\n",
       "  "
      ],
      "text/plain": [
       "<IPython.core.display.Javascript object>"
      ]
     },
     "metadata": {},
     "output_type": "display_data"
    },
    {
     "data": {
      "application/javascript": [
       "download(\"download_a016a342-e649-4194-b95e-cb994bef3a85\", \"DJF_tasmax_map.png\", 48216)"
      ],
      "text/plain": [
       "<IPython.core.display.Javascript object>"
      ]
     },
     "metadata": {},
     "output_type": "display_data"
    },
    {
     "data": {
      "application/javascript": [
       "\n",
       "    async function download(id, filename, size) {\n",
       "      if (!google.colab.kernel.accessAllowed) {\n",
       "        return;\n",
       "      }\n",
       "      const div = document.createElement('div');\n",
       "      const label = document.createElement('label');\n",
       "      label.textContent = `Downloading \"${filename}\": `;\n",
       "      div.appendChild(label);\n",
       "      const progress = document.createElement('progress');\n",
       "      progress.max = size;\n",
       "      div.appendChild(progress);\n",
       "      document.body.appendChild(div);\n",
       "\n",
       "      const buffers = [];\n",
       "      let downloaded = 0;\n",
       "\n",
       "      const channel = await google.colab.kernel.comms.open(id);\n",
       "      // Send a message to notify the kernel that we're ready.\n",
       "      channel.send({})\n",
       "\n",
       "      for await (const message of channel.messages) {\n",
       "        // Send a message to notify the kernel that we're ready.\n",
       "        channel.send({})\n",
       "        if (message.buffers) {\n",
       "          for (const buffer of message.buffers) {\n",
       "            buffers.push(buffer);\n",
       "            downloaded += buffer.byteLength;\n",
       "            progress.value = downloaded;\n",
       "          }\n",
       "        }\n",
       "      }\n",
       "      const blob = new Blob(buffers, {type: 'application/binary'});\n",
       "      const a = document.createElement('a');\n",
       "      a.href = window.URL.createObjectURL(blob);\n",
       "      a.download = filename;\n",
       "      div.appendChild(a);\n",
       "      a.click();\n",
       "      div.remove();\n",
       "    }\n",
       "  "
      ],
      "text/plain": [
       "<IPython.core.display.Javascript object>"
      ]
     },
     "metadata": {},
     "output_type": "display_data"
    },
    {
     "data": {
      "application/javascript": [
       "download(\"download_c810c212-145a-4f57-807d-39c7e7a63d38\", \"MAM_tasmax_map.png\", 47298)"
      ],
      "text/plain": [
       "<IPython.core.display.Javascript object>"
      ]
     },
     "metadata": {},
     "output_type": "display_data"
    },
    {
     "data": {
      "application/javascript": [
       "\n",
       "    async function download(id, filename, size) {\n",
       "      if (!google.colab.kernel.accessAllowed) {\n",
       "        return;\n",
       "      }\n",
       "      const div = document.createElement('div');\n",
       "      const label = document.createElement('label');\n",
       "      label.textContent = `Downloading \"${filename}\": `;\n",
       "      div.appendChild(label);\n",
       "      const progress = document.createElement('progress');\n",
       "      progress.max = size;\n",
       "      div.appendChild(progress);\n",
       "      document.body.appendChild(div);\n",
       "\n",
       "      const buffers = [];\n",
       "      let downloaded = 0;\n",
       "\n",
       "      const channel = await google.colab.kernel.comms.open(id);\n",
       "      // Send a message to notify the kernel that we're ready.\n",
       "      channel.send({})\n",
       "\n",
       "      for await (const message of channel.messages) {\n",
       "        // Send a message to notify the kernel that we're ready.\n",
       "        channel.send({})\n",
       "        if (message.buffers) {\n",
       "          for (const buffer of message.buffers) {\n",
       "            buffers.push(buffer);\n",
       "            downloaded += buffer.byteLength;\n",
       "            progress.value = downloaded;\n",
       "          }\n",
       "        }\n",
       "      }\n",
       "      const blob = new Blob(buffers, {type: 'application/binary'});\n",
       "      const a = document.createElement('a');\n",
       "      a.href = window.URL.createObjectURL(blob);\n",
       "      a.download = filename;\n",
       "      div.appendChild(a);\n",
       "      a.click();\n",
       "      div.remove();\n",
       "    }\n",
       "  "
      ],
      "text/plain": [
       "<IPython.core.display.Javascript object>"
      ]
     },
     "metadata": {},
     "output_type": "display_data"
    },
    {
     "data": {
      "application/javascript": [
       "download(\"download_debcf98f-c16b-419d-88e8-61fc00044f5d\", \"JJA_tasmax_map.png\", 34150)"
      ],
      "text/plain": [
       "<IPython.core.display.Javascript object>"
      ]
     },
     "metadata": {},
     "output_type": "display_data"
    },
    {
     "data": {
      "application/javascript": [
       "\n",
       "    async function download(id, filename, size) {\n",
       "      if (!google.colab.kernel.accessAllowed) {\n",
       "        return;\n",
       "      }\n",
       "      const div = document.createElement('div');\n",
       "      const label = document.createElement('label');\n",
       "      label.textContent = `Downloading \"${filename}\": `;\n",
       "      div.appendChild(label);\n",
       "      const progress = document.createElement('progress');\n",
       "      progress.max = size;\n",
       "      div.appendChild(progress);\n",
       "      document.body.appendChild(div);\n",
       "\n",
       "      const buffers = [];\n",
       "      let downloaded = 0;\n",
       "\n",
       "      const channel = await google.colab.kernel.comms.open(id);\n",
       "      // Send a message to notify the kernel that we're ready.\n",
       "      channel.send({})\n",
       "\n",
       "      for await (const message of channel.messages) {\n",
       "        // Send a message to notify the kernel that we're ready.\n",
       "        channel.send({})\n",
       "        if (message.buffers) {\n",
       "          for (const buffer of message.buffers) {\n",
       "            buffers.push(buffer);\n",
       "            downloaded += buffer.byteLength;\n",
       "            progress.value = downloaded;\n",
       "          }\n",
       "        }\n",
       "      }\n",
       "      const blob = new Blob(buffers, {type: 'application/binary'});\n",
       "      const a = document.createElement('a');\n",
       "      a.href = window.URL.createObjectURL(blob);\n",
       "      a.download = filename;\n",
       "      div.appendChild(a);\n",
       "      a.click();\n",
       "      div.remove();\n",
       "    }\n",
       "  "
      ],
      "text/plain": [
       "<IPython.core.display.Javascript object>"
      ]
     },
     "metadata": {},
     "output_type": "display_data"
    },
    {
     "data": {
      "application/javascript": [
       "download(\"download_8a80322e-813e-49bf-8a11-9e0a723e8430\", \"SON_tasmax_map.png\", 39952)"
      ],
      "text/plain": [
       "<IPython.core.display.Javascript object>"
      ]
     },
     "metadata": {},
     "output_type": "display_data"
    }
   ],
   "source": [
    "from google.colab import files\n",
    "import os\n",
    "\n",
    "# Download all maps from the folder\n",
    "for season in ['DJF', 'MAM', 'JJA', 'SON']:\n",
    "    filepath = f'evm_maps/{season}_tasmax_map.png'\n",
    "    files.download(filepath)\n"
   ]
  },
  {
   "cell_type": "code",
   "execution_count": null,
   "metadata": {
    "colab": {
     "base_uri": "https://localhost:8080/",
     "height": 692,
     "referenced_widgets": [
      "649ebd87bf0641b2a1ada4988b875eac",
      "f1991bdeb0e44ccbbfe58932febcee38",
      "650da02b435b4099b910d481e57e2fee",
      "45428b315f434475a97e3397f6f7be21",
      "6189d3ce74654cf8afaca9f5a60a39de",
      "b1ed77ce4d144fc38b3d3600b859df98",
      "4cee1eda24f64ba98e75f4585e1683a8",
      "d866d636c30e458f86eccdd84007a67f",
      "2beaed99db344f759083d28d9059fff3",
      "84d45bc20faf4a42b54e3b3aefc43a7d",
      "fde3406b557b400b95d444aecb52af87",
      "af22a74f67704a48ad6dbd2f10125593",
      "bef902202bac4fedaec8e2cafbcf0279",
      "a40a8177760e43bfaf8921c43e4bd731",
      "2d1a9a321365402d800b43f5ed6ac328",
      "9b01e270ee2b4391852faaf77c9e7d7c",
      "0c663317fa9a4e8692371467ca6e8d0f",
      "7b67e8388eda4b68b04bb6cb4a32958b",
      "bfe0cae2d38f43f7b45e9f63633714a9",
      "265e9eb99aae405da71fee9d17c2737f",
      "da924840460341fab69950d3bbf62966",
      "e67826f3d36b4758bdc96e39b0443ee4",
      "6d8ecdec3be4416bbb94445ae3c892ae",
      "151175241dcb4cfbb6d2e21a08975da5",
      "75e01d9d415d44f4ac2a95520f7ce8bd",
      "98e64aac7a044926a5d27f01f001dcd4",
      "eab4ef4ea373427db0d3b6355f9951bd",
      "2088db6686954a7eac19d62e7ddbf052",
      "d8c4c059099a45fc926de796c1261d97",
      "0f6fd59edb7f456eab594d6b2b732f06",
      "fa6fa268ef6c4a529cc62227a4426e52",
      "3e46ec47aeb645cbb15a9ce51723a171",
      "b1d771afbe4e415190c159e03fd5b1dd",
      "b01925d17318447d8880b6b7066fde58",
      "765e48083a0a4aee846d4d001f5c528a",
      "126d4ae8842640a7b3d8b3e47259a5ab",
      "eaea10ea04d5402f9c5a27328c358fa7",
      "dfb5f8c667504e31a7362d6182314d4d",
      "95b144077d61436dafa0ab354ccedfa6",
      "a28d166ce5014cf1bec15f5082c6d5b4",
      "8980c6f24941472c878304886f719f2d",
      "c5aac71b2ec445f3bcabfa239215587e",
      "9627d0cdec2b456c8b7457d7ee3d2dea",
      "17f9eb1a76974f838b762c6d75cad9ad",
      "e3a4454aad394e759f8b2e30bc03a460",
      "fa5c76afe317475ab46534f58705a580",
      "1bd315132b4949eba6cbcab57931fe20",
      "99c8ef316de64e039884ec0fa65308e6",
      "722ee5024afd4b248f6f6459f6da368c",
      "da058fe22e3f4c7daaac097f901d4bfe",
      "0e6d95506dcd4925910d335dcaf61e80",
      "23e1d888d0b14de289c413b7d13070b2",
      "c27dabca67e64469a0ea58f07bb9b633",
      "bd93e5d56f5e407881b1c734affa98d7",
      "17ea11d799b64b3b90e27259e02607d7",
      "bdee5e8c0a5a407d89a3b41ca3156659",
      "97add52358574f93a31786a36fec61f7",
      "17430ca31bd54f89970b2e19822d0960",
      "60d4e506b04b4468a91fbd0edde4f3f1",
      "1a4c6f897bd34bec81130111a45469b0",
      "654d2c34b63d4415becabc08c3380d64",
      "868b37653e4445b880faa67811192417",
      "c9eb6c4647a44ed189ca011b15fe25d3",
      "3f11f45d19a8416facd2710c752af98c",
      "e8978b14e8ee435f8e24845278a63b8e",
      "989503e0dc354e91ae66957c616a73d1",
      "ce1bfcd848214eabb566a1b3f1ad76f3",
      "f49bb93663524a539c089749d29d02be",
      "c7fe55c8562a40a2a710ba1736e1a264",
      "a953a5a89d1b47c0aafdeb971adeab45",
      "24a81270722646f7bbcb744ba708c662",
      "e8db2021c225481595ed8700ba0008f9",
      "8636e0288f464f8bb1ec9054c21a735e",
      "62534bae98ee45c2842c69f6b5a9b302",
      "abbc39a00d124e218bc20a4b12669451",
      "c96dae1a6f444178a58dc77eacd5750a",
      "10adf3c7743945e6a79cd70bf896c1fa",
      "35b2ca3973ed491ca15f413a75557dab",
      "6c6a685ad9de4cc5b445a299b9dcc119",
      "47c0cdd7c30444cd9acd640280f5f840",
      "72ac8d98f3384e22947f8a97a91bd7ce",
      "a9bef222fad84809b7780406f973c94d",
      "ede6c18e30844309a9ffa708a5dec34b",
      "573e311ee7e441d9a752a3bba1b0ed91",
      "bc11ca350576468394c3b349031caf55",
      "b1659256b2a64c318e17b91a6f82ce13",
      "d626ddab2ebf44c49793504ee7083d32",
      "000695b4696c4bd49c26d1ccf485c0ab",
      "71694e75cb5c480b92affe580f0b617d",
      "f25bca14d37e47a9a9b21abee4d9d27d",
      "9c1cfc26c7854e918af8231cd5d57153",
      "07e870fff7c04fcc9266331b67e79347",
      "b0128752c8f44bd3890a21f95e76ca46",
      "23fe34a407e44900a3436a1f15c9cb13",
      "b332c1c6520e4d8bac6de30bd43469eb",
      "14d62d50488d4e6a88a65515fe69fd16",
      "249a73e32a034cd1832135d7501a4cde",
      "e450465675894aecb7243151c3a0bd5e",
      "6102acff80a34630af90926ffe441342",
      "6b618198a3e543eabe52fa53c16c7c49",
      "af7132e37c98479a9265b19687794818",
      "ecbeda06133f4389aafb31faa40ee130",
      "f5c6e98e8a504c6997c2e53faf79ee06",
      "1a4b279202344c35bfdb61ae9b15b1be",
      "8d0d7dddfaa6432f948ca9f1f30c272c",
      "13734f31927a4ee4baa2d2d4a68b2866",
      "9bace01889534eebb9fc83649146111f",
      "7128f0992c954f1398acb7aa4c41f649",
      "3326f6850e7e4bf5a67f7b4e15d99f89",
      "f91764fe8d3b469c844165140532be65",
      "ebd3adf8301a4b37a2c27b5dfedf4b65",
      "3ab97155e3214defacfecadedad46ed1",
      "d962ed01df444511920087bba35904db",
      "bd140491102e442489fedf3300726c35",
      "140bad0002854f30bb37653d4744d485",
      "d2ff77672c0a4128bed27ebd9b5ceec3",
      "ff7327ea0eaa4592b1ae37850a2bda0e",
      "e7785ef81f16482da7a1c1b0aaac547c",
      "49ea5e08f6aa4527ab58e5eb8272680d",
      "dfd6b9d2a515471cb98ff7050821494a",
      "dfb8205fe87d41a4a05c948146e44143",
      "f310416e0f614bf3809b9ccdf74c777b",
      "61c71e1bf72b490a9173bc0f9a78b8df",
      "ffcc347d974b49129b80768d5659ada5",
      "cc9cbe1823474eb6ad6d3a09ee86bc57",
      "5e765850e5a949b3b6fa723b6271c8c9",
      "75ef146d23ca4cd29bc5cd6d7fe3b053",
      "b4697343e3f0411e9da569764086a4b5",
      "8830b6e10bef4de1849f6420c8c3845e",
      "c7df0e950d074dff9d52a31d14d2a96b",
      "f858f3b21894465b8ea0e67ad94831a2",
      "4f09059e65ca4b90a92d2525b9f8c12b",
      "9f59aae87cd74d03aa1132cdb33cd48e",
      "3a6a628790594e27b2994953f5d98a84",
      "45e76beee9b44c368027e2131ae10698"
     ]
    },
    "id": "9sRpCJvoWVsJ",
    "outputId": "4b397c57-4d79-448b-e4d3-4aef3f089178"
   },
   "outputs": [
    {
     "data": {
      "text/html": [
       "\n",
       "            <style>\n",
       "                .geemap-dark {\n",
       "                    --jp-widgets-color: white;\n",
       "                    --jp-widgets-label-color: white;\n",
       "                    --jp-ui-font-color1: white;\n",
       "                    --jp-layout-color2: #454545;\n",
       "                    background-color: #383838;\n",
       "                }\n",
       "\n",
       "                .geemap-dark .jupyter-button {\n",
       "                    --jp-layout-color3: #383838;\n",
       "                }\n",
       "\n",
       "                .geemap-colab {\n",
       "                    background-color: var(--colab-primary-surface-color, white);\n",
       "                }\n",
       "\n",
       "                .geemap-colab .jupyter-button {\n",
       "                    --jp-layout-color3: var(--colab-primary-surface-color, white);\n",
       "                }\n",
       "            </style>\n",
       "            "
      ],
      "text/plain": [
       "<IPython.core.display.HTML object>"
      ]
     },
     "metadata": {},
     "output_type": "display_data"
    },
    {
     "name": "stdout",
     "output_type": "stream",
     "text": [
      "Processing multi-class BIM for: DJF (Dec-Feb)\n",
      "Processing multi-class BIM for: MAM (Mar-May)\n",
      "Processing multi-class BIM for: JJA (Jun-Aug)\n",
      "Processing multi-class BIM for: SON (Sep-Nov)\n"
     ]
    },
    {
     "data": {
      "application/vnd.jupyter.widget-view+json": {
       "model_id": "649ebd87bf0641b2a1ada4988b875eac",
       "version_major": 2,
       "version_minor": 0
      },
      "text/plain": [
       "Map(center=[37.5, -119], controls=(WidgetControl(options=['position', 'transparent_bg'], widget=SearchDataGUI(…"
      ]
     },
     "metadata": {
      "application/vnd.jupyter.widget-view+json": {
       "colab": {
        "custom_widget_manager": {
         "url": "https://ssl.gstatic.com/colaboratory-static/widgets/colab-cdn-widget-manager/2b70e893a8ba7c0f/manager.min.js"
        }
       }
      }
     },
     "output_type": "display_data"
    }
   ],
   "source": [
    "\n",
    "# Step 1: Install and import packages\n",
    "!pip install earthengine-api geemap --quiet\n",
    "\n",
    "import ee\n",
    "import geemap\n",
    "\n",
    "# Authenticate and initialize Earth Engine\n",
    "ee.Authenticate()\n",
    "ee.Initialize(project='california-fire-model')\n",
    "\n",
    "# Step 2: Define California geometry\n",
    "california = ee.FeatureCollection(\"TIGER/2018/States\") \\\n",
    "    .filter(ee.Filter.eq(\"NAME\", \"California\")) \\\n",
    "    .geometry()\n",
    "\n",
    "# Step 3: Load MODIS burned area dataset\n",
    "modis_ba = ee.ImageCollection(\"MODIS/061/MCD64A1\").select('BurnDate')\n",
    "\n",
    "# Step 4: Define seasons\n",
    "seasons = {\n",
    "    'DJF': ([12, 1, 2], 'Dec-Feb'),\n",
    "    'MAM': ([3, 4, 5], 'Mar-May'),\n",
    "    'JJA': ([6, 7, 8], 'Jun-Aug'),\n",
    "    'SON': ([9, 10, 11], 'Sep-Nov')\n",
    "}\n",
    "\n",
    "def get_season_dates(year, months):\n",
    "    start_month = months[0]\n",
    "    end_month = months[-1]\n",
    "    if start_month > end_month:\n",
    "        start = ee.Date(f'{year-1}-{start_month:02d}-01')\n",
    "        end = ee.Date(f'{year}-{end_month:02d}-28')\n",
    "    else:\n",
    "        start = ee.Date(f'{year}-{start_month:02d}-01')\n",
    "        end = ee.Date(f'{year}-{end_month:02d}-28')\n",
    "    return start, end\n",
    "\n",
    "# Step 5: Generate seasonal risk maps\n",
    "seasonal_risk_maps = {}\n",
    "\n",
    "for season_key, (months, label) in seasons.items():\n",
    "    print(f\"Processing multi-class BIM for: {season_key} ({label})\")\n",
    "\n",
    "    seasonal_bims = []\n",
    "\n",
    "    for year in range(2005, 2026):\n",
    "        start, end = get_season_dates(year, months)\n",
    "        seasonal_fire = modis_ba.filterDate(start, end).map(lambda img: img.gt(0).rename('Fire'))\n",
    "\n",
    "        count = seasonal_fire.size()\n",
    "        season_sum = ee.Image(ee.Algorithms.If(\n",
    "            count.gt(0),\n",
    "            seasonal_fire.sum().clip(california),\n",
    "            ee.Image.constant(0).rename('Fire').clip(california)\n",
    "        ))\n",
    "\n",
    "        bim = season_sum.gt(0).rename('BIM')\n",
    "        seasonal_bims.append(bim)\n",
    "\n",
    "    avg_bim = ee.ImageCollection(seasonal_bims).mean().clip(california).reproject(crs='EPSG:4326', scale=500)\n",
    "    avg_bim = avg_bim.rename('BIM')\n",
    "\n",
    "    stats = avg_bim.reduceRegion(\n",
    "        reducer=ee.Reducer.percentile([33, 66]),\n",
    "        geometry=california,\n",
    "        scale=500,\n",
    "        maxPixels=1e13\n",
    "    )\n",
    "\n",
    "    p33 = ee.Number(ee.Algorithms.If(stats.contains('BIM'), stats.get('BIM'), 0.33))\n",
    "    p66 = ee.Number(ee.Algorithms.If(stats.contains('BIM'), stats.get('BIM'), 0.66))\n",
    "\n",
    "    low = avg_bim.lt(p33)\n",
    "    med = avg_bim.gte(p33).And(avg_bim.lte(p66))\n",
    "    high = avg_bim.gt(p66)\n",
    "\n",
    "    risk_map = (low.multiply(0)\n",
    "                .add(med.multiply(1))\n",
    "                .add(high.multiply(2))) \\\n",
    "                .rename(f'Risk_{season_key}') \\\n",
    "                .unmask(0) \\\n",
    "                .clip(california)\n",
    "\n",
    "    seasonal_risk_maps[season_key] = risk_map\n",
    "\n",
    "# Step 6: Display maps\n",
    "Map = geemap.Map(center=[37.5, -119], zoom=6)\n",
    "\n",
    "risk_vis = {\n",
    "    'min': 0,\n",
    "    'max': 2,\n",
    "    'palette': ['green', 'orange', 'red']\n",
    "}\n",
    "\n",
    "for season_key, risk_map in seasonal_risk_maps.items():\n",
    "    try:\n",
    "        Map.addLayer(risk_map.reproject(crs='EPSG:4326', scale=500), risk_vis, f'{season_key} Risk Map')\n",
    "    except Exception as e:\n",
    "        print(f\"❌ Error adding layer for {season_key}: {e}\")\n",
    "\n",
    "Map.addLayer(california, {}, \"California Boundary\")\n",
    "Map.addLayerControl()\n",
    "Map\n",
    "\n"
   ]
  },
  {
   "cell_type": "code",
   "execution_count": null,
   "metadata": {
    "colab": {
     "base_uri": "https://localhost:8080/",
     "height": 17
    },
    "id": "xLbIKM-4XhIQ",
    "outputId": "fd962984-aad8-4e75-c39c-ac1797211328"
   },
   "outputs": [
    {
     "data": {
      "text/html": [
       "\n",
       "            <style>\n",
       "                .geemap-dark {\n",
       "                    --jp-widgets-color: white;\n",
       "                    --jp-widgets-label-color: white;\n",
       "                    --jp-ui-font-color1: white;\n",
       "                    --jp-layout-color2: #454545;\n",
       "                    background-color: #383838;\n",
       "                }\n",
       "\n",
       "                .geemap-dark .jupyter-button {\n",
       "                    --jp-layout-color3: #383838;\n",
       "                }\n",
       "\n",
       "                .geemap-colab {\n",
       "                    background-color: var(--colab-primary-surface-color, white);\n",
       "                }\n",
       "\n",
       "                .geemap-colab .jupyter-button {\n",
       "                    --jp-layout-color3: var(--colab-primary-surface-color, white);\n",
       "                }\n",
       "            </style>\n",
       "            "
      ],
      "text/plain": [
       "<IPython.core.display.HTML object>"
      ]
     },
     "metadata": {},
     "output_type": "display_data"
    },
    {
     "data": {
      "application/javascript": [
       "\n",
       "    async function download(id, filename, size) {\n",
       "      if (!google.colab.kernel.accessAllowed) {\n",
       "        return;\n",
       "      }\n",
       "      const div = document.createElement('div');\n",
       "      const label = document.createElement('label');\n",
       "      label.textContent = `Downloading \"${filename}\": `;\n",
       "      div.appendChild(label);\n",
       "      const progress = document.createElement('progress');\n",
       "      progress.max = size;\n",
       "      div.appendChild(progress);\n",
       "      document.body.appendChild(div);\n",
       "\n",
       "      const buffers = [];\n",
       "      let downloaded = 0;\n",
       "\n",
       "      const channel = await google.colab.kernel.comms.open(id);\n",
       "      // Send a message to notify the kernel that we're ready.\n",
       "      channel.send({})\n",
       "\n",
       "      for await (const message of channel.messages) {\n",
       "        // Send a message to notify the kernel that we're ready.\n",
       "        channel.send({})\n",
       "        if (message.buffers) {\n",
       "          for (const buffer of message.buffers) {\n",
       "            buffers.push(buffer);\n",
       "            downloaded += buffer.byteLength;\n",
       "            progress.value = downloaded;\n",
       "          }\n",
       "        }\n",
       "      }\n",
       "      const blob = new Blob(buffers, {type: 'application/binary'});\n",
       "      const a = document.createElement('a');\n",
       "      a.href = window.URL.createObjectURL(blob);\n",
       "      a.download = filename;\n",
       "      div.appendChild(a);\n",
       "      a.click();\n",
       "      div.remove();\n",
       "    }\n",
       "  "
      ],
      "text/plain": [
       "<IPython.core.display.Javascript object>"
      ]
     },
     "metadata": {},
     "output_type": "display_data"
    },
    {
     "data": {
      "application/javascript": [
       "download(\"download_99c019a6-8b92-4728-84d7-91f82f1aba63\", \"Risk_Maps.zip\", 471146)"
      ],
      "text/plain": [
       "<IPython.core.display.Javascript object>"
      ]
     },
     "metadata": {},
     "output_type": "display_data"
    }
   ],
   "source": [
    "# Zip all PNG files\n",
    "import shutil\n",
    "shutil.make_archive('Risk_Maps', 'zip', 'risk_maps_png')\n",
    "from google.colab import files\n",
    "files.download('Risk_Maps.zip')\n"
   ]
  },
  {
   "cell_type": "code",
   "execution_count": null,
   "metadata": {
    "colab": {
     "base_uri": "https://localhost:8080/",
     "height": 692,
     "referenced_widgets": [
      "3ec72581e36b44b2903107027cb29d41",
      "f4a0e2fb03e84ab19824786750769db2",
      "38acc537c3e641b6b598b692ab348f99",
      "632b9496d50648248f46cd9af6390ce7",
      "ce640454efc24ca09c97109ac2ae03ed",
      "358bfc62224f41dc89363593866d1ffe",
      "f854424d247042349b7e5091af9372cb",
      "d65320aba946482e8ddba45d09ccb149",
      "0f900d7a15964d97ac98467e8e642df0",
      "7cff8fcad5b24060aebd945d7f47e2f5",
      "b13ddfcb252b44479cad37a88e813fde",
      "30847b85edeb491e90beeba6b66e791f",
      "f10a07dbc96f422396ea6f1af7aab1b8",
      "a598b3dd01d04dc3b83107e6e7c258c0",
      "fa69dc6138f44a7b940949da95f788ca",
      "0da035cda8a14f1ab3ec14cd08df3cae",
      "8bf2d6f2d28b4231ba4143d895b53d55",
      "4c72d92b25f44842aea9a3202f6283e8",
      "7666c844d9794612b7d5c9d074109902",
      "8e202acf7a3243a99788bd40e8caa2a9",
      "1676816f6848449287b2aa91798f5ae4",
      "deba58ce2f6a4982b1e70884d0c6b1a8",
      "bbcfd0e890684cc887810159e84c6448",
      "0522628d745c4d229de1b9ee6285458a",
      "8257a1d8cf5e40399711defd73133c83",
      "79cc11c57f7548f1b072233cd5738251",
      "f186c06a86f04553b6163ea95e55e004",
      "01aff1b1a92f46f992c8182f27f17681",
      "e15038e2020e43598d7fbe84bcb6210a",
      "28e09aa8423f45baafabb7919a326b8f",
      "9bf9913084ab4ac2a5b7dfee961a7813",
      "4f89b943b02e47f28fa1f04ae1970708",
      "a8856b6a19624345a854fa0fa8aed2a1",
      "053259e28c5c44c0abcb6441de6a9173",
      "182d739a01094c47ba45e4b14c336c49",
      "e52d797a731340bb8978417ccd76a367",
      "727a2e13edcd470aa7341ecedf5abfdd",
      "7bc5fffd9c6f456eab0b8edf9d9dc375",
      "a42fc0189ec841a08ea36c84f98db86d",
      "ae94ee61702c4d86994f99db49bfd366",
      "50014db826544bc9bdd2f1963e0863ab",
      "4795ccd589844c15b353e6985deaf5f9",
      "3dec66e455c8446db81e7f5f551b7e9d",
      "126e4dd754dd4d8ead57676cf3e7d7c9",
      "436efae1429749b78e174b98aa17aba7",
      "64db7f7656934d2b966781057cbbc307",
      "f51241f04aba4e2cb279b11abd942456",
      "3998988598264bb7a864a43ab41aafc8",
      "e596c0740fb744d6a4eba9096fb54c1f",
      "e32166cb7562480ba6f73c63d455eda8",
      "0712619718144defbe74e9aaaa8ee447",
      "13da63dbfaca4a4a994a808a000c107e",
      "fda720cc8d3442ecaea61a0cabaf6fb0",
      "96efc6e6ac3f4b599150fc9cb8c4251f",
      "679752de525f4856b38a36651c9671d0",
      "03a70ce62177434cbb00d7a9078b595e",
      "dc0af9f14f324bcb8b0ba79a5e2bb22a",
      "94db41cf5cc2409cadaa90f57c847c18",
      "c621e3fc27ad4830a1aeb6ad87139258",
      "5ebcaa648531454eb1d0112536a29141",
      "9d49d9834bcb4a24b717bb2f84fbfebe",
      "bbf663fc35ee40d99e338e4104d78e48",
      "91b4a8477b0d4393bd2e342985cde6e1",
      "f795cb4ec5b844faaeb4dc7e597327c5",
      "f24082ec515b475f9550548093acc0c8",
      "7f5ec4dde45f4573840d212a75f6d694",
      "f1e2311eaa2e48e0b2594a2f50003aec",
      "97bac1e024d748bf83307ec94f8bc81b",
      "ea1abc0b569f413f9dbae20e95fa7528",
      "5293ed807c9f43a69c90b05e3966fd2f",
      "48c5b1b7844f440882b27f0dd0a43bd9",
      "e95eb148a57b4df59b9e7838ef3fe0ed",
      "24b394d052ef40b89275262ecc169fc0",
      "bc6c2027c6b7465b94dd075c64e9020a",
      "d17216cefd964a9eb1dd7f13000d2062",
      "db463874c45d4858be536b34ae512eaa",
      "9a479a0fc30e422ab96881c6d284c573",
      "7cfe02fd8cae4a98abffbd25456d712d",
      "303b5928dfdc4c1e838a281cd5dae6fa",
      "44b46d88e01849f98ef99276e23e5109",
      "7b4193fe82fa48028f1a288285efed67",
      "757d763d8dc44d949aaaf062d57fb460",
      "fb49e6cc41dd4b8d811ce03663bce6cd",
      "7f802410024f46c7a52dc20120c9f8c9",
      "c571fbe3ffcf43abb85e9bebe931bc57",
      "38744e6a41cf4f0cb9a4c8456af34cf0",
      "cea4bc0d6c244486858d4637ce1fcd87",
      "b1371d9e99a44cda8c1e9d59fa7c62d7",
      "f385883b869d43f6ad9a84845c7d62ba",
      "dc370ba1793f4688a2472f9c3a289460",
      "fa015dddf5cc4e4fa2bc1bd86759414b",
      "0fa34c6078f448f8982df20beddfd1f6",
      "08338870c4964ced8c9c20b4f8e2c9c4",
      "fdcb8afd60b0434e9ea4e6236628165d",
      "60f26ae774dc43e9bbca561164c9caed",
      "0ad619cd93e942adab994a212d2f8931",
      "3c00263aaed84d0e9e0e1aa3e458706c",
      "f3e0b5b72bec4017930f2ff06be2c63d",
      "27a6d80a222f41c393febb857686ff99",
      "37baa2c0296a403280a55c53e33c9977",
      "358d6b72bdb74d6fafae6565e15b2f61",
      "99119ffd62e24119b719222ea830a479",
      "f478455afd9d47778bc2dc939835cb71",
      "1af1d7ce5c2a4430af4c4c60f57c19bb",
      "48132a50916249cd9b84bf92834d351b",
      "54093b1de4854fb89b92d63c3cbcac81",
      "3293bc3fe4744a7e9ae0778cb492cd23",
      "ffc36a288e7441d7983ca405ec5ad550",
      "be1bfeae38134070a1520118edf9c544",
      "ff938a872e8d4cbfa231af62d0b18233",
      "8b61ffb74a7047ce8f2ec93b07439c4d",
      "c4680cf23e764ddd877dba1e32891995",
      "876b09c34be64b9dbf9ea9996ee77048",
      "7cc3162bf9054d16a7f5252a7a47f969",
      "add5dcafdb8b46a2a59d54f7daed28ca",
      "6280974df402405fa3b984183a345980",
      "5d81f11a74c14ac383447cd96ee5e88a",
      "3cda1be6b88e4079b6902056b3d463f8",
      "398bbf222abb45749a80fea77bbdc9ac",
      "496cc961a1454f6c863b0ef9389eccd9",
      "a948764de5db4173990998f2e46b5f8a",
      "332dd037857b48cc982b8196ec44dfd3",
      "476bd59d59b0449aa22af9095b5dc3b0",
      "d36419354160468f81294b758409e75f",
      "cada4ad6e4da4f87bb66e3c4b91be5ec",
      "fc639e246d944b65b705ca5e66746c00",
      "1db7de8e8c994aac9253bd7c33854a9a",
      "4046b3ce5e2442c59a8d67e722ca280b",
      "8627924993fa4ddba4334c3fb576aed7",
      "54b3aa669232433b8d9417a89b2beaf4",
      "e90391c4fa11457dabd65edc4cf18546",
      "07588c998d274f0e964cbaa34c5a182c",
      "fd6f302f85de40dc9a3bf492cbe8ec38",
      "19142ca1264247888458999603ec5807",
      "4167c06fe2754e6aadc7736d9e218020"
     ]
    },
    "id": "Qw1rtsy2qf-k",
    "outputId": "264bdb43-6aea-4689-887a-d56b9a59e1c1"
   },
   "outputs": [
    {
     "data": {
      "text/html": [
       "\n",
       "            <style>\n",
       "                .geemap-dark {\n",
       "                    --jp-widgets-color: white;\n",
       "                    --jp-widgets-label-color: white;\n",
       "                    --jp-ui-font-color1: white;\n",
       "                    --jp-layout-color2: #454545;\n",
       "                    background-color: #383838;\n",
       "                }\n",
       "\n",
       "                .geemap-dark .jupyter-button {\n",
       "                    --jp-layout-color3: #383838;\n",
       "                }\n",
       "\n",
       "                .geemap-colab {\n",
       "                    background-color: var(--colab-primary-surface-color, white);\n",
       "                }\n",
       "\n",
       "                .geemap-colab .jupyter-button {\n",
       "                    --jp-layout-color3: var(--colab-primary-surface-color, white);\n",
       "                }\n",
       "            </style>\n",
       "            "
      ],
      "text/plain": [
       "<IPython.core.display.HTML object>"
      ]
     },
     "metadata": {},
     "output_type": "display_data"
    },
    {
     "name": "stdout",
     "output_type": "stream",
     "text": [
      "Processing: DJF (Dec-Feb)\n",
      "Processing: MAM (Mar-May)\n",
      "Processing: JJA (Jun-Aug)\n",
      "Processing: SON (Sep-Nov)\n"
     ]
    },
    {
     "data": {
      "application/vnd.jupyter.widget-view+json": {
       "model_id": "3ec72581e36b44b2903107027cb29d41",
       "version_major": 2,
       "version_minor": 0
      },
      "text/plain": [
       "Map(center=[37.5, -119], controls=(WidgetControl(options=['position', 'transparent_bg'], widget=SearchDataGUI(…"
      ]
     },
     "metadata": {
      "application/vnd.jupyter.widget-view+json": {
       "colab": {
        "custom_widget_manager": {
         "url": "https://ssl.gstatic.com/colaboratory-static/widgets/colab-cdn-widget-manager/2b70e893a8ba7c0f/manager.min.js"
        }
       }
      }
     },
     "output_type": "display_data"
    }
   ],
   "source": [
    "# Step 1: Install and import packages\n",
    "!pip install earthengine-api geemap --quiet\n",
    "\n",
    "import ee\n",
    "import geemap\n",
    "\n",
    "# Authenticate and initialize Earth Engine\n",
    "ee.Authenticate()\n",
    "ee.Initialize(project='california-fire-model')\n",
    "\n",
    "# Step 2: Define California geometry\n",
    "california = ee.FeatureCollection(\"TIGER/2018/States\") \\\n",
    "              .filter(ee.Filter.eq(\"NAME\", \"California\")) \\\n",
    "              .geometry()\n",
    "\n",
    "# Step 3: Define seasons\n",
    "seasons = {\n",
    "    'DJF': ([12, 1, 2], 'Dec-Feb'),\n",
    "    'MAM': ([3, 4, 5], 'Mar-May'),\n",
    "    'JJA': ([6, 7, 8], 'Jun-Aug'),\n",
    "    'SON': ([9, 10, 11], 'Sep-Nov')\n",
    "}\n",
    "\n",
    "def get_season_dates(year, months):\n",
    "    start_month = months[0]\n",
    "    end_month = months[-1]\n",
    "    if start_month > end_month:\n",
    "        start = ee.Date(f'{year-1}-{start_month:02d}-01')\n",
    "        end = ee.Date(f'{year}-{end_month:02d}-28')\n",
    "    else:\n",
    "        start = ee.Date(f'{year}-{start_month:02d}-01')\n",
    "        end = ee.Date(f'{year}-{end_month:02d}-28')\n",
    "    return start, end\n",
    "\n",
    "# Function to upscale to 500m resolution\n",
    "def upscale(img):\n",
    "    return img.resample('bilinear').reproject(crs='EPSG:4326', scale=500)\n",
    "\n",
    "# Step 4: Loop through each season and compute EVMs\n",
    "evms = {}\n",
    "\n",
    "for season_key, (months, label) in seasons.items():\n",
    "    print(f\"Processing: {season_key} ({label})\")\n",
    "\n",
    "    start, end = get_season_dates(2005, months)\n",
    "\n",
    "    # === PRISM: tmax, tmin, precip ===\n",
    "    prism_tmax = ee.ImageCollection('OREGONSTATE/PRISM/AN81m') \\\n",
    "        .filterDate(start, end).select('tmax').mean().rename('tmax')\n",
    "    prism_tmin = ee.ImageCollection('OREGONSTATE/PRISM/AN81m') \\\n",
    "        .filterDate(start, end).select('tmin').mean().rename('tmin')\n",
    "    prism_precip = ee.ImageCollection('OREGONSTATE/PRISM/AN81m') \\\n",
    "        .filterDate(start, end).select('ppt').sum().rename('precip')\n",
    "\n",
    "    # === GRIDMET: wind, humidity, eto, aridity ===\n",
    "    gridmet = ee.ImageCollection('IDAHO_EPSCOR/GRIDMET').filterDate(start, end)\n",
    "    wind = upscale(gridmet.select('vs').mean().rename('wind'))\n",
    "    humid = upscale(gridmet.select('sph').mean().rename('humidity'))\n",
    "    eto = upscale(gridmet.select('eto').sum().rename('eto'))\n",
    "    aridity = upscale(gridmet.select('pr').sum().divide(gridmet.select('eto').sum()).rename('aridity'))\n",
    "\n",
    "    # === MODIS: NDVI, LAI ===\n",
    "    ndvi = upscale(ee.ImageCollection('MODIS/006/MOD13A1') \\\n",
    "        .filterDate(start, end).select('NDVI').mean().rename('NDVI'))\n",
    "    lai = upscale(ee.ImageCollection('MODIS/006/MCD15A3H') \\\n",
    "        .filterDate(start, end).select('Lai').mean().rename('LAI'))\n",
    "\n",
    "    # === Upscale PRISM (no unmasking for clean stats) ===\n",
    "    tmax = upscale(prism_tmax)\n",
    "    tmin = upscale(prism_tmin)\n",
    "    precip = upscale(prism_precip)\n",
    "\n",
    "    # === Combine all variables ===\n",
    "    evm = ee.Image.cat([\n",
    "        tmax, tmin, precip, wind, humid, eto,\n",
    "        aridity, ndvi, lai\n",
    "    ]).clip(california)\n",
    "\n",
    "    evms[season_key] = evm\n",
    "\n",
    "# === Step 5: Display maps using geemap ===\n",
    "Map = geemap.Map(center=[37.5, -119], zoom=6)\n",
    "\n",
    "# Season-specific tmax ranges (from previous analysis)\n",
    "season_vis_ranges = {\n",
    "    'DJF': (0, 20),\n",
    "    'MAM': (5, 30),\n",
    "    'JJA': (15, 45),\n",
    "    'SON': (5, 30),\n",
    "}\n",
    "\n",
    "for season_key in ['DJF', 'MAM', 'JJA', 'SON']:\n",
    "    vmin, vmax = season_vis_ranges[season_key]\n",
    "    Map.addLayer(evms[season_key], {\n",
    "        'bands': ['tmax'],\n",
    "        'min': vmin,\n",
    "        'max': vmax,\n",
    "        'palette': ['blue', 'green', 'yellow', 'red']\n",
    "    }, f'{season_key} PRISM Tmax (°C)')\n",
    "\n",
    "Map.addLayer(california, {}, 'California Boundary')\n",
    "Map.addLayerControl()\n",
    "Map\n"
   ]
  },
  {
   "cell_type": "markdown",
   "metadata": {
    "id": "7BlcSVnoK8hb"
   },
   "source": [
    "export EVM and BIM to earth engine assets ubder a folder."
   ]
  },
  {
   "cell_type": "markdown",
   "metadata": {
    "id": "WD-gsav171fQ"
   },
   "source": [
    "MTBS"
   ]
  },
  {
   "cell_type": "code",
   "execution_count": null,
   "metadata": {
    "colab": {
     "base_uri": "https://localhost:8080/",
     "height": 35
    },
    "id": "A_fpm6qP0Oit",
    "outputId": "1092c5b3-93e1-4b91-a2a4-998fb3b0cba7"
   },
   "outputs": [
    {
     "data": {
      "text/html": [
       "\n",
       "            <style>\n",
       "                .geemap-dark {\n",
       "                    --jp-widgets-color: white;\n",
       "                    --jp-widgets-label-color: white;\n",
       "                    --jp-ui-font-color1: white;\n",
       "                    --jp-layout-color2: #454545;\n",
       "                    background-color: #383838;\n",
       "                }\n",
       "\n",
       "                .geemap-dark .jupyter-button {\n",
       "                    --jp-layout-color3: #383838;\n",
       "                }\n",
       "\n",
       "                .geemap-colab {\n",
       "                    background-color: var(--colab-primary-surface-color, white);\n",
       "                }\n",
       "\n",
       "                .geemap-colab .jupyter-button {\n",
       "                    --jp-layout-color3: var(--colab-primary-surface-color, white);\n",
       "                }\n",
       "            </style>\n",
       "            "
      ],
      "text/plain": [
       "<IPython.core.display.HTML object>"
      ]
     },
     "metadata": {},
     "output_type": "display_data"
    },
    {
     "name": "stdout",
     "output_type": "stream",
     "text": [
      "CommandException: One or more URLs matched no objects.\n"
     ]
    }
   ],
   "source": [
    "!gsutil ls gs://california-fire-model/evms/*/*.tif\n",
    "\n"
   ]
  },
  {
   "cell_type": "markdown",
   "metadata": {
    "id": "eADg4UsK1Gro"
   },
   "source": []
  },
  {
   "cell_type": "code",
   "execution_count": null,
   "metadata": {
    "colab": {
     "base_uri": "https://localhost:8080/",
     "height": 35
    },
    "id": "TutKOlRB1LWE",
    "outputId": "f2bbac60-d277-456a-93f3-9e096b0f20e3"
   },
   "outputs": [
    {
     "data": {
      "text/html": [
       "\n",
       "            <style>\n",
       "                .geemap-dark {\n",
       "                    --jp-widgets-color: white;\n",
       "                    --jp-widgets-label-color: white;\n",
       "                    --jp-ui-font-color1: white;\n",
       "                    --jp-layout-color2: #454545;\n",
       "                    background-color: #383838;\n",
       "                }\n",
       "\n",
       "                .geemap-dark .jupyter-button {\n",
       "                    --jp-layout-color3: #383838;\n",
       "                }\n",
       "\n",
       "                .geemap-colab {\n",
       "                    background-color: var(--colab-primary-surface-color, white);\n",
       "                }\n",
       "\n",
       "                .geemap-colab .jupyter-button {\n",
       "                    --jp-layout-color3: var(--colab-primary-surface-color, white);\n",
       "                }\n",
       "            </style>\n",
       "            "
      ],
      "text/plain": [
       "<IPython.core.display.HTML object>"
      ]
     },
     "metadata": {},
     "output_type": "display_data"
    },
    {
     "name": "stdout",
     "output_type": "stream",
     "text": [
      "🚀 Export triggered!\n"
     ]
    }
   ],
   "source": [
    "import ee\n",
    "ee.Authenticate()\n",
    "ee.Initialize(project='california-fire-model')\n",
    "\n",
    "california = ee.FeatureCollection(\"TIGER/2018/States\") \\\n",
    "              .filter(ee.Filter.eq(\"NAME\", \"California\")).geometry()\n",
    "\n",
    "image = ee.Image.constant(1).clip(california)\n",
    "\n",
    "task = ee.batch.Export.image.toCloudStorage(\n",
    "    image=image,\n",
    "    description='test_export',\n",
    "    bucket='california-fire-model',\n",
    "    fileNamePrefix='test/test_image',\n",
    "    region=california.bounds(),\n",
    "    scale=500,\n",
    "    crs='EPSG:4326',\n",
    "    maxPixels=1e13\n",
    ")\n",
    "task.start()\n",
    "print(\"🚀 Export triggered!\")\n"
   ]
  },
  {
   "cell_type": "code",
   "execution_count": null,
   "metadata": {
    "colab": {
     "base_uri": "https://localhost:8080/",
     "height": 35
    },
    "id": "ye8nf_ME1P5_",
    "outputId": "8926d289-52a4-4658-d384-43258fcc5101"
   },
   "outputs": [
    {
     "data": {
      "text/html": [
       "\n",
       "            <style>\n",
       "                .geemap-dark {\n",
       "                    --jp-widgets-color: white;\n",
       "                    --jp-widgets-label-color: white;\n",
       "                    --jp-ui-font-color1: white;\n",
       "                    --jp-layout-color2: #454545;\n",
       "                    background-color: #383838;\n",
       "                }\n",
       "\n",
       "                .geemap-dark .jupyter-button {\n",
       "                    --jp-layout-color3: #383838;\n",
       "                }\n",
       "\n",
       "                .geemap-colab {\n",
       "                    background-color: var(--colab-primary-surface-color, white);\n",
       "                }\n",
       "\n",
       "                .geemap-colab .jupyter-button {\n",
       "                    --jp-layout-color3: var(--colab-primary-surface-color, white);\n",
       "                }\n",
       "            </style>\n",
       "            "
      ],
      "text/plain": [
       "<IPython.core.display.HTML object>"
      ]
     },
     "metadata": {},
     "output_type": "display_data"
    },
    {
     "name": "stdout",
     "output_type": "stream",
     "text": [
      "CommandException: One or more URLs matched no objects.\n"
     ]
    }
   ],
   "source": [
    "!gsutil ls gs://california-fire-model/test/\n"
   ]
  },
  {
   "cell_type": "code",
   "execution_count": null,
   "metadata": {
    "colab": {
     "base_uri": "https://localhost:8080/",
     "height": 764,
     "referenced_widgets": [
      "e559bf5137ce45cb9cbb26882b22b6db",
      "e33d0cf021a04160b02985c056bd73db",
      "275b48117a614a7796ca849348a07ef2",
      "508af62a01254f7c89817c684beacb2d",
      "77f89a85d971417388ba036e787f23ce",
      "5ab1aa2947c1496cbb51df4cd017c8a6",
      "dd37d383a56d4a30a00a1b3872c90761",
      "2d97741502b24feba10f07a0897034db",
      "09aa4fa69a0d40ac91f07dd5a3afae27",
      "8014e3675f2b423992db9da79e3b353a",
      "6964f38b200444c891bc45e55f67f84d",
      "34d46603927e466baa85a0c1d52b2a9e",
      "16ab5f2fa1704d2fbcda9dd38d5c9b3c",
      "5fe3dbcf04d94f25a9d13e54fc99aba1",
      "c33cd5bb6a41475ea9f8ffe464083466",
      "7f82ce001203413baefcb3f57d53d8e0",
      "6447faae58c14989a521e8f30ede1181",
      "6b91220952534e0aa7d20ec671addc07",
      "c3668292352b4ca391825367205dd8a1",
      "2f2d936c4ef341dbbc60c3cbaf48e108",
      "1c4d5f8764b147a1a6b19b9035e0d3dd",
      "d1bdd952b7ce4e179b11386cddd1cde6",
      "ad979fc2da994c7cbcbddc27ee7dad7e",
      "102c40bfc1ca4cdda6690628d9390366",
      "0aa8953ae03846af8572a840a2ad3be0",
      "4e5b0f5ef006448dbd4cacda97d28832",
      "d0c5373f9a29470da838979eb8537f06",
      "2762984e06f24e1a990908cc3ffb5c2d",
      "410ccc85e6bf4b2685f75e20a98ec11e",
      "aee927f288414d87b1b89be0b57a2a32",
      "facac33dd4d0455cb22d3ab91b073616",
      "f1b13033c536451aa2292bd6aaa77450",
      "86f830df64194b7998c616f65f849946",
      "a67b666ac47c488bb060bb4fdbd691f0",
      "380f571935824d4fa3eaad0039cbe5ac",
      "6b47942208a04b6fbd872136f073a5b1",
      "313dd0ac5763417c957d0d028f0f5a90",
      "d445c5facc384620a911937d9a441bfe",
      "ef20b7be75fc48cf9dd3e7993adb4093",
      "eeb5e146a6df48eba9c302ef527d0020",
      "27891104098d47c58dcf0c97ae12bc8b",
      "3da9638a8e7a49319e8a21f843db4095",
      "511a9ef843fe46d988287b8c71eba393",
      "aa9c3d39721948b99d4a8d20a01e8722",
      "732c4ac0618e478283d0a62f8fe9539c",
      "ba0613a61bb446b6a0dd217114aa7da0",
      "091099545d3f4b16aa2341315f93672d",
      "4fdedc37ede74dd0926ee808e4901cdc",
      "eab736acbf904884a274d852598aa8a7",
      "fb65f1daa1e44620b26761d5289f225a",
      "57d8cae7e93d45ef9262d5dbf4d02afd",
      "b4c261ef5f7d4a6f8619a9fb62da1cab",
      "ffd1979540e84100a12470b57d83b6c7",
      "e02cdc0ab9154dfe9932edf1475f1d30",
      "09c236df09ac438c89ec47ccedd23c75",
      "2e8551f0581843e99fe4f8df8e474377",
      "2d11449d4aa94846822d0966b4398806",
      "b3521dabaddd4985ba5d6461ae252c09",
      "441aa20b25514df4af93b1b4b7320948",
      "ff8d6d5bbcaf4ababd5f29a9a33af9e8",
      "8954213d2dc64b439804d5812f8ee66b",
      "a0c994f95398489bb62c8bb5dc9bc7b4",
      "6de86fcc5bc542aaacc370dafaef5f44",
      "63cb07088aa54b34b1c84e8e1c38e824",
      "e05638f841994c4592939cec455544f5",
      "e93a4294953b43b09756021e17bc16a6",
      "0dac819c2042417e9e910401e854e78d",
      "cb405d81491e49c4b3cd7868a24ad77e",
      "d98ab81e57bd4af19bbdab803d27bd96",
      "ba73a687903e4a2186fcde816f3e605f",
      "1a47ce0daac64c70a2a19024abc94dbe",
      "12f8de7cc19e4ae3a96309eeb7f1b4f5",
      "c668d728558b41bbab1b41cc851125c5",
      "c7d5b93aaaf245e3bf3ce6650545bbbe",
      "0c437d9ddbd54914bddb4b2cfb3ea10d",
      "ded8a439839d42f79f0ee2d31284d730",
      "2a34445e21d040b59433e8022490a6be",
      "3c6aebe01e404d348fbd3ca09b1bf80b",
      "335ebeacc0834fc6a69e89ba477e8e1d",
      "08f610c4db554cb7a9831eeb6ca047f7",
      "8f729c7adc054f44a9a6e6c9a91fcaa1",
      "1a9af935fc664e658fde6afc0426525a",
      "612877d8bd4a43ef9a3b740ef28ff5bd",
      "280483b82cb244feb62c20aae3a3f81e",
      "229b23cf280447729c37787eb4f789cd",
      "df12438b518049ed92aac9168afd2485",
      "59723d0aa6ac48ce844fa208c7339e8e",
      "6acff5e9be6147d4ac2a9e27800abd94",
      "f37cac71c6b545b8b54ad392bdb65cfa",
      "16bf4d994a574e248c21ae94adb7c4a7",
      "03ef6d1dc0cb40cfb9cdf60b596cef4c",
      "bdf1e53862084913b0c3f984a0e8d8d6",
      "6c1c5d47fbfe46b3864dbd7f015e272b",
      "6fb5f0d1e57d4c8fa96c627409b682eb",
      "879c451e302e40d99cd4c1a681b92832",
      "483a044b9a1f40f6ac06b86c39ed8cda",
      "65a59c4b6f784bbcbfb08b0ca4f754f7",
      "399433b686a145ee89786cdbbf343cc3",
      "0906aec4a63449d3bd29b1dcf21f4be9",
      "b133c5661f6a458fbffe4133fce615c5",
      "68d61062dcec44bca81b8011e974571e",
      "98b800efdf3443809f864525d86114b3",
      "06ac104aaf91407b9d367cdd213ebfd9",
      "4a3c5b1d7f4d4c22bc1ecb14966560e5",
      "3a1828a83f2c4726ab9299694c263da4",
      "d1a482b20cc0418f80f149d8a9ede1ab",
      "84b05b77b8ab410cb24af3b9e7dbde49",
      "72868f2022514dda9afdd5ad005330fd",
      "025171ad3f574bf18f54e0033d30efa9",
      "7218215c8d64481db9bfef737cc100dc",
      "6e38894479c54e06b27a890a4162e1a6",
      "01621abb5a9c422694857155199906e9",
      "3ae04d71086f4b9aa1392dd55d6f5e7e",
      "1717c379ba544ac881131bb3fedcf1b4",
      "0d46da14ed2b4d1f9d923b7f1c828e4a",
      "4a085eeac3dd4a05bafbf80c302ae377",
      "383b6b2982194be9a55f45d6eb935591",
      "fcf8edc2623a4705a234c64faa5c345b",
      "8c851769dbe44359ac1343db9d50c11a",
      "b069c4e9e23d437fb0fb956d2eeb8332",
      "71f9be3e92a944db8243b8cf0fc4373c",
      "d494057665244e29a9968514ebf5a6a3",
      "0766b488fd264450b67a9b5d03d9cb49",
      "96ad0874119f47c986addb84cc3d925e",
      "18bc0b7519994df7b13ddb2b65be8ba4",
      "c457a17e906d42e8bd2b72a6abf34d8e",
      "fb32cf9179004c13a030a8ef6527139e",
      "f71f416d127a46aeb2783288962104a1",
      "b26aa34be3d042b8ad4fb68265c32d37",
      "f2e6d914713c46f8bb79de50a3cb253e",
      "2a6acfe75fa84b74bed6172375959553",
      "5ec463c564204545970a576370cd851d",
      "ade16b162f9341ddb435ac4face60050",
      "297d39ca6474491ba9c8b9741063bb4b",
      "94f0df7ca7ff42b8a86bd16b504b2af7"
     ]
    },
    "id": "lrrUcDCV65hj",
    "outputId": "afddf65d-1f98-43b2-f43a-0ca2ca512745"
   },
   "outputs": [
    {
     "data": {
      "text/html": [
       "\n",
       "            <style>\n",
       "                .geemap-dark {\n",
       "                    --jp-widgets-color: white;\n",
       "                    --jp-widgets-label-color: white;\n",
       "                    --jp-ui-font-color1: white;\n",
       "                    --jp-layout-color2: #454545;\n",
       "                    background-color: #383838;\n",
       "                }\n",
       "\n",
       "                .geemap-dark .jupyter-button {\n",
       "                    --jp-layout-color3: #383838;\n",
       "                }\n",
       "\n",
       "                .geemap-colab {\n",
       "                    background-color: var(--colab-primary-surface-color, white);\n",
       "                }\n",
       "\n",
       "                .geemap-colab .jupyter-button {\n",
       "                    --jp-layout-color3: var(--colab-primary-surface-color, white);\n",
       "                }\n",
       "            </style>\n",
       "            "
      ],
      "text/plain": [
       "<IPython.core.display.HTML object>"
      ]
     },
     "metadata": {},
     "output_type": "display_data"
    },
    {
     "name": "stdout",
     "output_type": "stream",
     "text": [
      "Processing: DJF (Dec-Feb)\n",
      "🚀 Export started → gs://california-fire-model/evms/DJF/EVM_DJF_2005.tif\n",
      "Processing: MAM (Mar-May)\n",
      "🚀 Export started → gs://california-fire-model/evms/MAM/EVM_MAM_2005.tif\n",
      "Processing: JJA (Jun-Aug)\n",
      "🚀 Export started → gs://california-fire-model/evms/JJA/EVM_JJA_2005.tif\n",
      "Processing: SON (Sep-Nov)\n",
      "🚀 Export started → gs://california-fire-model/evms/SON/EVM_SON_2005.tif\n"
     ]
    },
    {
     "data": {
      "application/vnd.jupyter.widget-view+json": {
       "model_id": "e559bf5137ce45cb9cbb26882b22b6db",
       "version_major": 2,
       "version_minor": 0
      },
      "text/plain": [
       "Map(center=[37.5, -119], controls=(WidgetControl(options=['position', 'transparent_bg'], widget=SearchDataGUI(…"
      ]
     },
     "metadata": {
      "application/vnd.jupyter.widget-view+json": {
       "colab": {
        "custom_widget_manager": {
         "url": "https://ssl.gstatic.com/colaboratory-static/widgets/colab-cdn-widget-manager/2b70e893a8ba7c0f/manager.min.js"
        }
       }
      }
     },
     "output_type": "display_data"
    }
   ],
   "source": [
    "# Step 1: Install and import packages\n",
    "!pip install earthengine-api geemap --quiet\n",
    "\n",
    "import ee\n",
    "import geemap\n",
    "\n",
    "# Authenticate and initialize Earth Engine\n",
    "ee.Authenticate()\n",
    "ee.Initialize(project='california-fire-model')\n",
    "\n",
    "# Step 2: Define California geometry\n",
    "california = ee.FeatureCollection(\"TIGER/2018/States\") \\\n",
    "              .filter(ee.Filter.eq(\"NAME\", \"California\")) \\\n",
    "              .geometry()\n",
    "\n",
    "# Step 3: Define seasons\n",
    "seasons = {\n",
    "    'DJF': ([12, 1, 2], 'Dec-Feb'),\n",
    "    'MAM': ([3, 4, 5], 'Mar-May'),\n",
    "    'JJA': ([6, 7, 8], 'Jun-Aug'),\n",
    "    'SON': ([9, 10, 11], 'Sep-Nov')\n",
    "}\n",
    "\n",
    "def get_season_dates(year, months):\n",
    "    start_month = months[0]\n",
    "    end_month = months[-1]\n",
    "    if start_month > end_month:\n",
    "        start = ee.Date(f'{year-1}-{start_month:02d}-01')\n",
    "        end = ee.Date(f'{year}-{end_month:02d}-28')\n",
    "    else:\n",
    "        start = ee.Date(f'{year}-{start_month:02d}-01')\n",
    "        end = ee.Date(f'{year}-{end_month:02d}-28')\n",
    "    return start, end\n",
    "\n",
    "# Function to upscale to 500m resolution\n",
    "def upscale(img):\n",
    "    return img.resample('bilinear').reproject(crs='EPSG:4326', scale=500)\n",
    "\n",
    "# Step 4: Generate EVMs and Export to GCS\n",
    "bucket_name = 'california-fire-model'\n",
    "scale = 500\n",
    "crs = 'EPSG:4326'\n",
    "evms = {}\n",
    "\n",
    "for season_key, (months, label) in seasons.items():\n",
    "    print(f\"Processing: {season_key} ({label})\")\n",
    "\n",
    "    start, end = get_season_dates(2005, months)\n",
    "\n",
    "    # === PRISM ===\n",
    "    prism = ee.ImageCollection('OREGONSTATE/PRISM/AN81m').filterDate(start, end)\n",
    "    tmax = upscale(prism.select('tmax').mean().rename('tmax'))\n",
    "    tmin = upscale(prism.select('tmin').mean().rename('tmin'))\n",
    "    precip = upscale(prism.select('ppt').sum().rename('precip'))\n",
    "\n",
    "    # === GRIDMET ===\n",
    "    gridmet = ee.ImageCollection('IDAHO_EPSCOR/GRIDMET').filterDate(start, end)\n",
    "    wind = upscale(gridmet.select('vs').mean().rename('wind'))\n",
    "    humid = upscale(gridmet.select('sph').mean().rename('humidity'))\n",
    "    eto = upscale(gridmet.select('eto').sum().rename('eto'))\n",
    "    aridity = upscale(gridmet.select('pr').sum().divide(eto).rename('aridity'))\n",
    "\n",
    "    # === MODIS ===\n",
    "    ndvi = upscale(ee.ImageCollection('MODIS/006/MOD13A1')\n",
    "                   .filterDate(start, end).select('NDVI').mean().rename('NDVI'))\n",
    "    lai = upscale(ee.ImageCollection('MODIS/006/MCD15A3H')\n",
    "                  .filterDate(start, end).select('Lai').mean().rename('LAI'))\n",
    "\n",
    "    # === Combine all and cast to float ===\n",
    "    evm = ee.Image.cat([\n",
    "        tmax, tmin, precip, wind, humid, eto,\n",
    "        aridity, ndvi, lai\n",
    "    ]).clip(california).toFloat()  # ✅ Ensures all bands are Float32\n",
    "\n",
    "    evms[season_key] = evm\n",
    "\n",
    "    # === Export to Cloud Storage ===\n",
    "    file_prefix = f'evms/{season_key}/EVM_{season_key}_2005'\n",
    "    task = ee.batch.Export.image.toCloudStorage(\n",
    "        image=evm,\n",
    "        description=f'Export_{season_key}_2005',\n",
    "        bucket=bucket_name,\n",
    "        fileNamePrefix=file_prefix,\n",
    "        region=california,\n",
    "        scale=scale,\n",
    "        crs=crs,\n",
    "        maxPixels=1e13\n",
    "    )\n",
    "    task.start()\n",
    "    print(f'🚀 Export started → gs://{bucket_name}/{file_prefix}.tif')\n",
    "\n",
    "# Step 5: Display PRISM tmax layer\n",
    "Map = geemap.Map(center=[37.5, -119], zoom=6)\n",
    "season_vis_ranges = {\n",
    "    'DJF': (0, 20),\n",
    "    'MAM': (5, 30),\n",
    "    'JJA': (15, 45),\n",
    "    'SON': (5, 30),\n",
    "}\n",
    "for season_key in seasons.keys():\n",
    "    vmin, vmax = season_vis_ranges[season_key]\n",
    "    Map.addLayer(evms[season_key], {\n",
    "        'bands': ['tmax'],\n",
    "        'min': vmin,\n",
    "        'max': vmax,\n",
    "        'palette': ['blue', 'green', 'yellow', 'red']\n",
    "    }, f'{season_key} PRISM Tmax (°C)')\n",
    "Map.addLayer(california, {}, 'California Boundary')\n",
    "Map.addLayerControl()\n",
    "Map\n"
   ]
  },
  {
   "cell_type": "code",
   "execution_count": null,
   "metadata": {
    "colab": {
     "base_uri": "https://localhost:8080/",
     "height": 71
    },
    "id": "Vd6ePe297OcU",
    "outputId": "f2ef0d17-11dc-43ce-90ea-ab15f64bbaea"
   },
   "outputs": [
    {
     "data": {
      "text/html": [
       "\n",
       "            <style>\n",
       "                .geemap-dark {\n",
       "                    --jp-widgets-color: white;\n",
       "                    --jp-widgets-label-color: white;\n",
       "                    --jp-ui-font-color1: white;\n",
       "                    --jp-layout-color2: #454545;\n",
       "                    background-color: #383838;\n",
       "                }\n",
       "\n",
       "                .geemap-dark .jupyter-button {\n",
       "                    --jp-layout-color3: #383838;\n",
       "                }\n",
       "\n",
       "                .geemap-colab {\n",
       "                    background-color: var(--colab-primary-surface-color, white);\n",
       "                }\n",
       "\n",
       "                .geemap-colab .jupyter-button {\n",
       "                    --jp-layout-color3: var(--colab-primary-surface-color, white);\n",
       "                }\n",
       "            </style>\n",
       "            "
      ],
      "text/plain": [
       "<IPython.core.display.HTML object>"
      ]
     },
     "metadata": {},
     "output_type": "display_data"
    },
    {
     "name": "stdout",
     "output_type": "stream",
     "text": [
      "gs://california-fire-model/evms/DJF/\n",
      "gs://california-fire-model/evms/JJA/\n",
      "gs://california-fire-model/evms/SON/\n"
     ]
    }
   ],
   "source": [
    "!gsutil ls gs://california-fire-model/evms/\n",
    "\n"
   ]
  },
  {
   "cell_type": "markdown",
   "metadata": {
    "id": "dVaaizKJ9Ftq"
   },
   "source": [
    "export all EVMS from 2000 to 2025."
   ]
  },
  {
   "cell_type": "code",
   "execution_count": null,
   "metadata": {
    "colab": {
     "base_uri": "https://localhost:8080/",
     "height": 1000
    },
    "id": "-zr10Fkx9FaY",
    "outputId": "86f57392-4e1c-4a80-e130-ff55b38d0c07"
   },
   "outputs": [
    {
     "data": {
      "text/html": [
       "\n",
       "            <style>\n",
       "                .geemap-dark {\n",
       "                    --jp-widgets-color: white;\n",
       "                    --jp-widgets-label-color: white;\n",
       "                    --jp-ui-font-color1: white;\n",
       "                    --jp-layout-color2: #454545;\n",
       "                    background-color: #383838;\n",
       "                }\n",
       "\n",
       "                .geemap-dark .jupyter-button {\n",
       "                    --jp-layout-color3: #383838;\n",
       "                }\n",
       "\n",
       "                .geemap-colab {\n",
       "                    background-color: var(--colab-primary-surface-color, white);\n",
       "                }\n",
       "\n",
       "                .geemap-colab .jupyter-button {\n",
       "                    --jp-layout-color3: var(--colab-primary-surface-color, white);\n",
       "                }\n",
       "            </style>\n",
       "            "
      ],
      "text/plain": [
       "<IPython.core.display.HTML object>"
      ]
     },
     "metadata": {},
     "output_type": "display_data"
    },
    {
     "name": "stdout",
     "output_type": "stream",
     "text": [
      "📦 Exporting EVM: DJF, 2000\n",
      "📦 Exporting EVM: MAM, 2000\n",
      "📦 Exporting EVM: JJA, 2000\n",
      "📦 Exporting EVM: SON, 2000\n",
      "📦 Exporting EVM: DJF, 2001\n",
      "📦 Exporting EVM: MAM, 2001\n",
      "📦 Exporting EVM: JJA, 2001\n",
      "📦 Exporting EVM: SON, 2001\n",
      "📦 Exporting EVM: DJF, 2002\n",
      "📦 Exporting EVM: MAM, 2002\n",
      "📦 Exporting EVM: JJA, 2002\n",
      "📦 Exporting EVM: SON, 2002\n",
      "📦 Exporting EVM: DJF, 2003\n",
      "📦 Exporting EVM: MAM, 2003\n",
      "📦 Exporting EVM: JJA, 2003\n",
      "📦 Exporting EVM: SON, 2003\n",
      "📦 Exporting EVM: DJF, 2004\n",
      "📦 Exporting EVM: MAM, 2004\n",
      "📦 Exporting EVM: JJA, 2004\n",
      "📦 Exporting EVM: SON, 2004\n",
      "📦 Exporting EVM: DJF, 2005\n",
      "📦 Exporting EVM: MAM, 2005\n",
      "📦 Exporting EVM: JJA, 2005\n",
      "📦 Exporting EVM: SON, 2005\n",
      "📦 Exporting EVM: DJF, 2006\n",
      "📦 Exporting EVM: MAM, 2006\n",
      "📦 Exporting EVM: JJA, 2006\n",
      "📦 Exporting EVM: SON, 2006\n",
      "📦 Exporting EVM: DJF, 2007\n",
      "📦 Exporting EVM: MAM, 2007\n",
      "📦 Exporting EVM: JJA, 2007\n",
      "📦 Exporting EVM: SON, 2007\n",
      "📦 Exporting EVM: DJF, 2008\n",
      "📦 Exporting EVM: MAM, 2008\n",
      "📦 Exporting EVM: JJA, 2008\n",
      "📦 Exporting EVM: SON, 2008\n",
      "📦 Exporting EVM: DJF, 2009\n",
      "📦 Exporting EVM: MAM, 2009\n",
      "📦 Exporting EVM: JJA, 2009\n",
      "📦 Exporting EVM: SON, 2009\n",
      "📦 Exporting EVM: DJF, 2010\n",
      "📦 Exporting EVM: MAM, 2010\n",
      "📦 Exporting EVM: JJA, 2010\n",
      "📦 Exporting EVM: SON, 2010\n",
      "📦 Exporting EVM: DJF, 2011\n",
      "📦 Exporting EVM: MAM, 2011\n",
      "📦 Exporting EVM: JJA, 2011\n",
      "📦 Exporting EVM: SON, 2011\n",
      "📦 Exporting EVM: DJF, 2012\n",
      "📦 Exporting EVM: MAM, 2012\n",
      "📦 Exporting EVM: JJA, 2012\n",
      "📦 Exporting EVM: SON, 2012\n",
      "📦 Exporting EVM: DJF, 2013\n",
      "📦 Exporting EVM: MAM, 2013\n",
      "📦 Exporting EVM: JJA, 2013\n",
      "📦 Exporting EVM: SON, 2013\n",
      "📦 Exporting EVM: DJF, 2014\n",
      "📦 Exporting EVM: MAM, 2014\n",
      "📦 Exporting EVM: JJA, 2014\n",
      "📦 Exporting EVM: SON, 2014\n",
      "📦 Exporting EVM: DJF, 2015\n",
      "📦 Exporting EVM: MAM, 2015\n",
      "📦 Exporting EVM: JJA, 2015\n",
      "📦 Exporting EVM: SON, 2015\n",
      "📦 Exporting EVM: DJF, 2016\n",
      "📦 Exporting EVM: MAM, 2016\n",
      "📦 Exporting EVM: JJA, 2016\n",
      "📦 Exporting EVM: SON, 2016\n",
      "📦 Exporting EVM: DJF, 2017\n",
      "📦 Exporting EVM: MAM, 2017\n",
      "📦 Exporting EVM: JJA, 2017\n",
      "📦 Exporting EVM: SON, 2017\n",
      "📦 Exporting EVM: DJF, 2018\n",
      "📦 Exporting EVM: MAM, 2018\n",
      "📦 Exporting EVM: JJA, 2018\n",
      "📦 Exporting EVM: SON, 2018\n",
      "📦 Exporting EVM: DJF, 2019\n",
      "📦 Exporting EVM: MAM, 2019\n",
      "📦 Exporting EVM: JJA, 2019\n",
      "📦 Exporting EVM: SON, 2019\n",
      "📦 Exporting EVM: DJF, 2020\n",
      "📦 Exporting EVM: MAM, 2020\n",
      "📦 Exporting EVM: JJA, 2020\n",
      "📦 Exporting EVM: SON, 2020\n",
      "📦 Exporting EVM: DJF, 2021\n",
      "📦 Exporting EVM: MAM, 2021\n",
      "📦 Exporting EVM: JJA, 2021\n",
      "📦 Exporting EVM: SON, 2021\n",
      "📦 Exporting EVM: DJF, 2022\n",
      "📦 Exporting EVM: MAM, 2022\n",
      "📦 Exporting EVM: JJA, 2022\n",
      "📦 Exporting EVM: SON, 2022\n",
      "📦 Exporting EVM: DJF, 2023\n",
      "📦 Exporting EVM: MAM, 2023\n",
      "📦 Exporting EVM: JJA, 2023\n",
      "📦 Exporting EVM: SON, 2023\n",
      "📦 Exporting EVM: DJF, 2024\n",
      "📦 Exporting EVM: MAM, 2024\n",
      "📦 Exporting EVM: JJA, 2024\n",
      "📦 Exporting EVM: SON, 2024\n",
      "📦 Exporting EVM: DJF, 2025\n",
      "📦 Exporting EVM: MAM, 2025\n",
      "📦 Exporting EVM: JJA, 2025\n",
      "📦 Exporting EVM: SON, 2025\n"
     ]
    }
   ],
   "source": [
    "# Step 1: Install and import packages\n",
    "!pip install earthengine-api geemap --quiet\n",
    "\n",
    "import ee\n",
    "import geemap\n",
    "\n",
    "# Authenticate and initialize Earth Engine\n",
    "ee.Authenticate()\n",
    "ee.Initialize(project='california-fire-model')\n",
    "\n",
    "# Step 2: Define California geometry\n",
    "california = ee.FeatureCollection(\"TIGER/2018/States\") \\\n",
    "              .filter(ee.Filter.eq(\"NAME\", \"California\")) \\\n",
    "              .geometry()\n",
    "\n",
    "# Step 3: Define seasons\n",
    "seasons = {\n",
    "    'DJF': ([12, 1, 2], 'Dec-Feb'),\n",
    "    'MAM': ([3, 4, 5], 'Mar-May'),\n",
    "    'JJA': ([6, 7, 8], 'Jun-Aug'),\n",
    "    'SON': ([9, 10, 11], 'Sep-Nov')\n",
    "}\n",
    "\n",
    "def get_season_dates(year, months):\n",
    "    start_month = months[0]\n",
    "    end_month = months[-1]\n",
    "    if start_month > end_month:\n",
    "        start = ee.Date(f'{year-1}-{start_month:02d}-01')\n",
    "        end = ee.Date(f'{year}-{end_month:02d}-28')\n",
    "    else:\n",
    "        start = ee.Date(f'{year}-{start_month:02d}-01')\n",
    "        end = ee.Date(f'{year}-{end_month:02d}-28')\n",
    "    return start, end\n",
    "\n",
    "# Function to upscale to 500m resolution and cast to Float32\n",
    "def upscale(img):\n",
    "    return img.resample('bilinear').reproject(crs='EPSG:4326', scale=500).toFloat()\n",
    "\n",
    "# Step 4: Generate and Export EVMs\n",
    "bucket_name = 'california-fire-model'\n",
    "scale = 500\n",
    "crs = 'EPSG:4326'\n",
    "\n",
    "for year in range(2000, 2026):\n",
    "    for season_key, (months, label) in seasons.items():\n",
    "        print(f\"📦 Exporting EVM: {season_key}, {year}\")\n",
    "        start, end = get_season_dates(year, months)\n",
    "\n",
    "        try:\n",
    "            # PRISM\n",
    "            prism = ee.ImageCollection('OREGONSTATE/PRISM/AN81m').filterDate(start, end)\n",
    "            tmax = upscale(prism.select('tmax').mean().rename('tmax'))\n",
    "            tmin = upscale(prism.select('tmin').mean().rename('tmin'))\n",
    "            precip = upscale(prism.select('ppt').sum().rename('precip'))\n",
    "\n",
    "            # GRIDMET\n",
    "            gridmet = ee.ImageCollection('IDAHO_EPSCOR/GRIDMET').filterDate(start, end)\n",
    "            wind = upscale(gridmet.select('vs').mean().rename('wind'))\n",
    "            humid = upscale(gridmet.select('sph').mean().rename('humidity'))\n",
    "            eto = upscale(gridmet.select('eto').sum().rename('eto'))\n",
    "            aridity = upscale(gridmet.select('pr').sum().divide(eto).rename('aridity'))\n",
    "\n",
    "            # MODIS\n",
    "            ndvi = upscale(ee.ImageCollection('MODIS/006/MOD13A1')\n",
    "                           .filterDate(start, end).select('NDVI').mean().rename('NDVI'))\n",
    "            lai = upscale(ee.ImageCollection('MODIS/006/MCD15A3H')\n",
    "                          .filterDate(start, end).select('Lai').mean().rename('LAI'))\n",
    "\n",
    "            # Combine all bands\n",
    "            evm = ee.Image.cat([\n",
    "                tmax, tmin, precip, wind, humid, eto,\n",
    "                aridity, ndvi, lai\n",
    "            ]).clip(california).toFloat()\n",
    "\n",
    "            # Export\n",
    "            file_prefix = f'evms/{season_key}/EVM_{season_key}_{year}'\n",
    "            task = ee.batch.Export.image.toCloudStorage(\n",
    "                image=evm,\n",
    "                description=f'Export_{season_key}_{year}',\n",
    "                bucket=bucket_name,\n",
    "                fileNamePrefix=file_prefix,\n",
    "                region=california,\n",
    "                scale=scale,\n",
    "                crs=crs,\n",
    "                maxPixels=1e13\n",
    "            )\n",
    "            task.start()\n",
    "        except Exception as e:\n",
    "            print(f\"❌ Failed export {season_key}_{year}: {e}\")\n"
   ]
  },
  {
   "cell_type": "code",
   "execution_count": null,
   "metadata": {
    "colab": {
     "base_uri": "https://localhost:8080/",
     "height": 88
    },
    "id": "u8RYgfgYBRgG",
    "outputId": "62f708c8-f870-48a2-8aba-09f2e5f9950a"
   },
   "outputs": [
    {
     "data": {
      "text/html": [
       "\n",
       "            <style>\n",
       "                .geemap-dark {\n",
       "                    --jp-widgets-color: white;\n",
       "                    --jp-widgets-label-color: white;\n",
       "                    --jp-ui-font-color1: white;\n",
       "                    --jp-layout-color2: #454545;\n",
       "                    background-color: #383838;\n",
       "                }\n",
       "\n",
       "                .geemap-dark .jupyter-button {\n",
       "                    --jp-layout-color3: #383838;\n",
       "                }\n",
       "\n",
       "                .geemap-colab {\n",
       "                    background-color: var(--colab-primary-surface-color, white);\n",
       "                }\n",
       "\n",
       "                .geemap-colab .jupyter-button {\n",
       "                    --jp-layout-color3: var(--colab-primary-surface-color, white);\n",
       "                }\n",
       "            </style>\n",
       "            "
      ],
      "text/plain": [
       "<IPython.core.display.HTML object>"
      ]
     },
     "metadata": {},
     "output_type": "display_data"
    },
    {
     "name": "stdout",
     "output_type": "stream",
     "text": [
      "gs://california-fire-model/evms/DJF/\n",
      "gs://california-fire-model/evms/JJA/\n",
      "gs://california-fire-model/evms/MAM/\n",
      "gs://california-fire-model/evms/SON/\n"
     ]
    }
   ],
   "source": [
    "!gsutil ls gs://california-fire-model/evms/\n"
   ]
  },
  {
   "cell_type": "code",
   "execution_count": null,
   "metadata": {
    "colab": {
     "base_uri": "https://localhost:8080/",
     "height": 1000
    },
    "id": "PAXIj5bIBUkr",
    "outputId": "8b1fe847-842f-496c-b68d-56e3c6965cc8"
   },
   "outputs": [
    {
     "data": {
      "text/html": [
       "\n",
       "            <style>\n",
       "                .geemap-dark {\n",
       "                    --jp-widgets-color: white;\n",
       "                    --jp-widgets-label-color: white;\n",
       "                    --jp-ui-font-color1: white;\n",
       "                    --jp-layout-color2: #454545;\n",
       "                    background-color: #383838;\n",
       "                }\n",
       "\n",
       "                .geemap-dark .jupyter-button {\n",
       "                    --jp-layout-color3: #383838;\n",
       "                }\n",
       "\n",
       "                .geemap-colab {\n",
       "                    background-color: var(--colab-primary-surface-color, white);\n",
       "                }\n",
       "\n",
       "                .geemap-colab .jupyter-button {\n",
       "                    --jp-layout-color3: var(--colab-primary-surface-color, white);\n",
       "                }\n",
       "            </style>\n",
       "            "
      ],
      "text/plain": [
       "<IPython.core.display.HTML object>"
      ]
     },
     "metadata": {},
     "output_type": "display_data"
    },
    {
     "name": "stdout",
     "output_type": "stream",
     "text": [
      "Export_SON_2025: READY\n",
      "Export_JJA_2025: READY\n",
      "Export_MAM_2025: READY\n",
      "Export_DJF_2025: READY\n",
      "Export_SON_2024: READY\n",
      "Export_JJA_2024: READY\n",
      "Export_MAM_2024: READY\n",
      "Export_DJF_2024: READY\n",
      "Export_SON_2023: READY\n",
      "Export_JJA_2023: READY\n",
      "Export_MAM_2023: READY\n",
      "Export_DJF_2023: READY\n",
      "Export_SON_2022: READY\n",
      "Export_JJA_2022: READY\n",
      "Export_MAM_2022: READY\n",
      "Export_DJF_2022: READY\n",
      "Export_SON_2021: READY\n",
      "Export_JJA_2021: READY\n",
      "Export_MAM_2021: READY\n",
      "Export_DJF_2021: READY\n",
      "Export_SON_2020: READY\n",
      "Export_JJA_2020: READY\n",
      "Export_MAM_2020: READY\n",
      "Export_DJF_2020: READY\n",
      "Export_SON_2019: READY\n",
      "Export_JJA_2019: READY\n",
      "Export_MAM_2019: READY\n",
      "Export_DJF_2019: READY\n",
      "Export_SON_2018: READY\n",
      "Export_JJA_2018: READY\n",
      "Export_MAM_2018: READY\n",
      "Export_DJF_2018: READY\n",
      "Export_SON_2017: READY\n",
      "Export_JJA_2017: READY\n",
      "Export_MAM_2017: READY\n",
      "Export_DJF_2017: READY\n",
      "Export_SON_2016: READY\n",
      "Export_JJA_2016: READY\n",
      "Export_MAM_2016: READY\n",
      "Export_DJF_2016: READY\n",
      "Export_SON_2015: READY\n",
      "Export_JJA_2015: READY\n",
      "Export_MAM_2015: READY\n",
      "Export_DJF_2015: READY\n",
      "Export_SON_2014: READY\n",
      "Export_JJA_2014: READY\n",
      "Export_MAM_2014: READY\n",
      "Export_DJF_2014: READY\n",
      "Export_SON_2013: READY\n",
      "Export_JJA_2013: READY\n",
      "Export_MAM_2013: READY\n",
      "Export_DJF_2013: READY\n",
      "Export_SON_2012: READY\n",
      "Export_JJA_2012: READY\n",
      "Export_MAM_2012: READY\n",
      "Export_DJF_2012: READY\n",
      "Export_SON_2011: READY\n",
      "Export_JJA_2011: READY\n",
      "Export_MAM_2011: READY\n",
      "Export_DJF_2011: READY\n",
      "Export_SON_2010: READY\n",
      "Export_JJA_2010: READY\n",
      "Export_MAM_2010: READY\n",
      "Export_DJF_2010: READY\n",
      "Export_SON_2009: READY\n",
      "Export_JJA_2009: READY\n",
      "Export_MAM_2009: READY\n",
      "Export_DJF_2009: READY\n",
      "Export_SON_2008: READY\n",
      "Export_JJA_2008: READY\n",
      "Export_MAM_2008: READY\n",
      "Export_DJF_2008: READY\n",
      "Export_SON_2007: READY\n",
      "Export_JJA_2007: READY\n",
      "Export_MAM_2007: READY\n",
      "Export_DJF_2007: READY\n",
      "Export_SON_2006: READY\n",
      "Export_JJA_2006: READY\n",
      "Export_MAM_2006: READY\n",
      "Export_DJF_2006: READY\n",
      "Export_SON_2005: READY\n",
      "Export_JJA_2005: READY\n",
      "Export_MAM_2005: READY\n",
      "Export_DJF_2005: READY\n",
      "Export_SON_2004: READY\n",
      "Export_JJA_2004: READY\n",
      "Export_MAM_2004: READY\n",
      "Export_DJF_2004: READY\n",
      "Export_SON_2003: READY\n",
      "Export_JJA_2003: READY\n",
      "Export_MAM_2003: READY\n",
      "Export_DJF_2003: READY\n",
      "Export_SON_2002: READY\n",
      "Export_JJA_2002: READY\n",
      "Export_MAM_2002: READY\n",
      "Export_DJF_2002: READY\n",
      "Export_SON_2001: READY\n",
      "Export_JJA_2001: RUNNING\n",
      "Export_MAM_2001: RUNNING\n",
      "Export_DJF_2001: RUNNING\n",
      "Export_SON_2000: RUNNING\n",
      "Export_JJA_2000: RUNNING\n",
      "Export_MAM_2000: COMPLETED\n",
      "Export_DJF_2000: COMPLETED\n",
      "Export_SON_2005: COMPLETED\n",
      "Export_JJA_2005: COMPLETED\n",
      "Export_MAM_2005: COMPLETED\n",
      "Export_DJF_2005: COMPLETED\n",
      "trigger_export: COMPLETED\n",
      "Export_SON_2005: FAILED\n",
      "Export_JJA_2005: FAILED\n",
      "Export_MAM_2005: FAILED\n",
      "Export_DJF_2005: FAILED\n",
      "test_export: COMPLETED\n",
      "Export_SON_2024: FAILED\n",
      "Export_JJA_2024: FAILED\n",
      "Export_MAM_2024: FAILED\n",
      "Export_DJF_2024: FAILED\n",
      "Export_SON_2023: FAILED\n",
      "Export_JJA_2023: FAILED\n",
      "Export_MAM_2023: FAILED\n",
      "Export_DJF_2023: FAILED\n",
      "Export_SON_2022: FAILED\n",
      "Export_JJA_2022: FAILED\n",
      "Export_MAM_2022: FAILED\n",
      "Export_DJF_2022: FAILED\n",
      "Export_SON_2021: FAILED\n",
      "Export_JJA_2021: FAILED\n",
      "Export_MAM_2021: FAILED\n",
      "Export_DJF_2021: FAILED\n",
      "Export_SON_2020: FAILED\n",
      "Export_JJA_2020: FAILED\n",
      "Export_MAM_2020: FAILED\n",
      "Export_DJF_2020: FAILED\n",
      "Export_SON_2019: FAILED\n",
      "Export_JJA_2019: FAILED\n",
      "Export_MAM_2019: FAILED\n",
      "Export_DJF_2019: FAILED\n",
      "Export_SON_2018: FAILED\n",
      "Export_JJA_2018: FAILED\n",
      "Export_MAM_2018: FAILED\n",
      "Export_DJF_2018: FAILED\n",
      "Export_SON_2017: FAILED\n",
      "Export_JJA_2017: FAILED\n",
      "Export_MAM_2017: FAILED\n",
      "Export_DJF_2017: FAILED\n",
      "Export_SON_2016: FAILED\n",
      "Export_JJA_2016: FAILED\n",
      "Export_MAM_2016: FAILED\n",
      "Export_DJF_2016: FAILED\n",
      "Export_SON_2015: FAILED\n",
      "Export_JJA_2015: FAILED\n",
      "Export_MAM_2015: FAILED\n",
      "Export_DJF_2015: FAILED\n",
      "Export_SON_2014: FAILED\n",
      "Export_JJA_2014: FAILED\n",
      "Export_MAM_2014: FAILED\n",
      "Export_DJF_2014: FAILED\n",
      "Export_SON_2013: FAILED\n",
      "Export_JJA_2013: FAILED\n",
      "Export_MAM_2013: FAILED\n",
      "Export_DJF_2013: FAILED\n",
      "Export_SON_2012: FAILED\n",
      "Export_JJA_2012: FAILED\n",
      "Export_MAM_2012: FAILED\n",
      "Export_DJF_2012: FAILED\n",
      "Export_SON_2011: FAILED\n",
      "Export_JJA_2011: FAILED\n",
      "Export_MAM_2011: FAILED\n",
      "Export_DJF_2011: FAILED\n",
      "Export_SON_2010: FAILED\n",
      "Export_JJA_2010: FAILED\n",
      "Export_MAM_2010: FAILED\n",
      "Export_DJF_2010: FAILED\n",
      "Export_SON_2009: FAILED\n",
      "Export_JJA_2009: FAILED\n",
      "Export_MAM_2009: FAILED\n",
      "Export_DJF_2009: FAILED\n",
      "Export_SON_2008: FAILED\n",
      "Export_JJA_2008: FAILED\n",
      "Export_MAM_2008: FAILED\n",
      "Export_DJF_2008: FAILED\n",
      "Export_SON_2007: FAILED\n",
      "Export_JJA_2007: FAILED\n",
      "Export_MAM_2007: FAILED\n",
      "Export_DJF_2007: FAILED\n",
      "Export_SON_2006: FAILED\n",
      "Export_JJA_2006: FAILED\n",
      "Export_MAM_2006: FAILED\n",
      "Export_DJF_2006: FAILED\n",
      "Export_SON_2005: FAILED\n",
      "Export_JJA_2005: FAILED\n",
      "Export_MAM_2005: FAILED\n",
      "Export_DJF_2005: FAILED\n",
      "Export_SON_2004: FAILED\n",
      "Export_JJA_2004: FAILED\n",
      "Export_MAM_2004: FAILED\n",
      "Export_DJF_2004: FAILED\n",
      "Export_SON_2003: FAILED\n",
      "Export_JJA_2003: FAILED\n",
      "Export_MAM_2003: FAILED\n",
      "Export_DJF_2003: FAILED\n",
      "Export_SON_2002: FAILED\n",
      "Export_JJA_2002: FAILED\n",
      "Export_MAM_2002: FAILED\n",
      "Export_DJF_2002: FAILED\n",
      "Export_SON_2001: FAILED\n",
      "Export_JJA_2001: FAILED\n",
      "Export_MAM_2001: FAILED\n",
      "Export_DJF_2001: FAILED\n",
      "Export_SON_2000: FAILED\n",
      "Export_JJA_2000: FAILED\n",
      "Export_MAM_2000: FAILED\n",
      "Export_DJF_2000: FAILED\n",
      "Export_SON_2004: FAILED\n",
      "Export_JJA_2004: FAILED\n",
      "Export_MAM_2004: FAILED\n",
      "Export_DJF_2004: FAILED\n",
      "Export_SON_2003: FAILED\n",
      "Export_JJA_2003: FAILED\n",
      "Export_MAM_2003: FAILED\n",
      "Export_DJF_2003: FAILED\n",
      "Export_SON_2002: FAILED\n",
      "Export_JJA_2002: FAILED\n",
      "Export_MAM_2002: FAILED\n",
      "Export_DJF_2002: FAILED\n",
      "Export_SON_2001: FAILED\n",
      "Export_JJA_2001: FAILED\n",
      "Export_MAM_2001: FAILED\n",
      "Export_DJF_2001: FAILED\n",
      "Export_SON_2000: FAILED\n",
      "Export_JJA_2000: FAILED\n",
      "Export_MAM_2000: FAILED\n",
      "Export_DJF_2000: FAILED\n",
      "Export_SON_2004: FAILED\n",
      "Export_JJA_2004: FAILED\n",
      "Export_MAM_2004: FAILED\n",
      "Export_DJF_2004: FAILED\n",
      "Export_SON_2003: FAILED\n",
      "Export_JJA_2003: FAILED\n",
      "Export_MAM_2003: FAILED\n",
      "Export_DJF_2003: FAILED\n",
      "Export_SON_2002: FAILED\n",
      "Export_JJA_2002: FAILED\n",
      "Export_MAM_2002: FAILED\n",
      "Export_DJF_2002: FAILED\n",
      "Export_SON_2001: FAILED\n",
      "Export_JJA_2001: FAILED\n",
      "Export_MAM_2001: FAILED\n",
      "Export_DJF_2001: FAILED\n",
      "Export_SON_2000: FAILED\n",
      "Export_JJA_2000: FAILED\n",
      "Export_MAM_2000: FAILED\n",
      "Export_DJF_2000: FAILED\n",
      "Export_SON_2004: FAILED\n",
      "Export_JJA_2004: FAILED\n",
      "Export_MAM_2004: FAILED\n",
      "Export_DJF_2004: FAILED\n",
      "Export_SON_2003: FAILED\n",
      "Export_JJA_2003: FAILED\n",
      "Export_MAM_2003: FAILED\n",
      "Export_DJF_2003: FAILED\n",
      "Export_SON_2002: FAILED\n",
      "Export_JJA_2002: FAILED\n",
      "Export_MAM_2002: FAILED\n",
      "Export_DJF_2002: FAILED\n",
      "Export_SON_2001: FAILED\n",
      "Export_JJA_2001: FAILED\n",
      "Export_MAM_2001: FAILED\n",
      "Export_DJF_2001: FAILED\n",
      "Export_SON_2000: FAILED\n",
      "Export_JJA_2000: FAILED\n",
      "Export_MAM_2000: FAILED\n",
      "Export_DJF_2000: FAILED\n",
      "Export_SON_2024: FAILED\n",
      "Export_JJA_2024: FAILED\n",
      "Export_MAM_2024: FAILED\n",
      "Export_DJF_2024: FAILED\n",
      "Export_SON_2023: FAILED\n",
      "Export_JJA_2023: FAILED\n",
      "Export_MAM_2023: FAILED\n",
      "Export_DJF_2023: FAILED\n",
      "Export_SON_2022: FAILED\n",
      "Export_JJA_2022: FAILED\n",
      "Export_MAM_2022: FAILED\n",
      "Export_DJF_2022: FAILED\n",
      "Export_SON_2021: FAILED\n",
      "Export_JJA_2021: FAILED\n",
      "Export_MAM_2021: FAILED\n",
      "Export_DJF_2021: FAILED\n",
      "Export_SON_2020: FAILED\n",
      "Export_JJA_2020: FAILED\n",
      "Export_MAM_2020: FAILED\n",
      "Export_DJF_2020: FAILED\n",
      "Export_SON_2019: FAILED\n",
      "Export_JJA_2019: FAILED\n",
      "Export_MAM_2019: FAILED\n",
      "Export_DJF_2019: FAILED\n",
      "Export_SON_2018: FAILED\n",
      "Export_JJA_2018: FAILED\n",
      "Export_MAM_2018: FAILED\n",
      "Export_DJF_2018: FAILED\n",
      "Export_SON_2017: FAILED\n",
      "Export_JJA_2017: FAILED\n",
      "Export_MAM_2017: FAILED\n",
      "Export_DJF_2017: FAILED\n",
      "Export_SON_2016: FAILED\n",
      "Export_JJA_2016: FAILED\n",
      "Export_MAM_2016: FAILED\n",
      "Export_DJF_2016: FAILED\n",
      "Export_SON_2015: FAILED\n",
      "Export_JJA_2015: FAILED\n",
      "Export_MAM_2015: FAILED\n",
      "Export_DJF_2015: FAILED\n",
      "Export_SON_2014: FAILED\n",
      "Export_JJA_2014: FAILED\n",
      "Export_MAM_2014: FAILED\n",
      "Export_DJF_2014: FAILED\n",
      "Export_SON_2013: FAILED\n",
      "Export_JJA_2013: FAILED\n",
      "Export_MAM_2013: FAILED\n",
      "Export_DJF_2013: FAILED\n",
      "Export_SON_2012: FAILED\n",
      "Export_JJA_2012: FAILED\n",
      "Export_MAM_2012: FAILED\n",
      "Export_DJF_2012: FAILED\n",
      "Export_SON_2011: FAILED\n",
      "Export_JJA_2011: FAILED\n",
      "Export_MAM_2011: FAILED\n",
      "Export_DJF_2011: FAILED\n",
      "Export_SON_2010: FAILED\n",
      "Export_JJA_2010: FAILED\n",
      "Export_MAM_2010: FAILED\n",
      "Export_DJF_2010: FAILED\n",
      "Export_SON_2009: FAILED\n",
      "Export_JJA_2009: FAILED\n",
      "Export_MAM_2009: FAILED\n",
      "Export_DJF_2009: FAILED\n",
      "Export_SON_2008: FAILED\n",
      "Export_JJA_2008: FAILED\n",
      "Export_MAM_2008: FAILED\n",
      "Export_DJF_2008: FAILED\n",
      "Export_SON_2007: FAILED\n",
      "Export_JJA_2007: FAILED\n",
      "Export_MAM_2007: FAILED\n",
      "Export_DJF_2007: FAILED\n",
      "Export_SON_2006: FAILED\n",
      "Export_JJA_2006: FAILED\n",
      "Export_MAM_2006: FAILED\n",
      "Export_DJF_2006: FAILED\n",
      "Export_SON_2005: FAILED\n",
      "Export_JJA_2005: FAILED\n",
      "Export_MAM_2005: FAILED\n",
      "Export_DJF_2005: FAILED\n",
      "Export_SON_2004: FAILED\n",
      "Export_JJA_2004: FAILED\n",
      "Export_MAM_2004: FAILED\n",
      "Export_DJF_2004: FAILED\n",
      "Export_SON_2003: FAILED\n",
      "Export_JJA_2003: FAILED\n",
      "Export_MAM_2003: FAILED\n",
      "Export_DJF_2003: FAILED\n",
      "Export_SON_2002: FAILED\n",
      "Export_JJA_2002: FAILED\n",
      "Export_MAM_2002: FAILED\n",
      "Export_DJF_2002: FAILED\n",
      "Export_SON_2001: FAILED\n",
      "Export_JJA_2001: FAILED\n",
      "Export_MAM_2001: FAILED\n",
      "Export_DJF_2001: FAILED\n",
      "Export_SON_2000: FAILED\n",
      "Export_JJA_2000: FAILED\n",
      "Export_MAM_2000: FAILED\n",
      "Export_DJF_2000: FAILED\n",
      "Export_SON_2024: FAILED\n",
      "Export_JJA_2024: FAILED\n",
      "Export_MAM_2024: FAILED\n",
      "Export_DJF_2024: FAILED\n",
      "Export_SON_2023: FAILED\n",
      "Export_JJA_2023: FAILED\n",
      "Export_MAM_2023: FAILED\n",
      "Export_DJF_2023: FAILED\n",
      "Export_SON_2022: FAILED\n",
      "Export_JJA_2022: FAILED\n",
      "Export_MAM_2022: FAILED\n",
      "Export_DJF_2022: FAILED\n",
      "Export_SON_2021: FAILED\n",
      "Export_JJA_2021: FAILED\n",
      "Export_MAM_2021: FAILED\n",
      "Export_DJF_2021: FAILED\n",
      "Export_SON_2020: FAILED\n",
      "Export_JJA_2020: FAILED\n",
      "Export_MAM_2020: FAILED\n",
      "Export_DJF_2020: FAILED\n",
      "Export_SON_2019: FAILED\n",
      "Export_JJA_2019: FAILED\n",
      "Export_MAM_2019: FAILED\n",
      "Export_DJF_2019: FAILED\n",
      "Export_SON_2018: FAILED\n",
      "Export_JJA_2018: FAILED\n",
      "Export_MAM_2018: FAILED\n",
      "Export_DJF_2018: FAILED\n",
      "Export_SON_2017: FAILED\n",
      "Export_JJA_2017: FAILED\n",
      "Export_MAM_2017: FAILED\n",
      "Export_DJF_2017: FAILED\n",
      "Export_SON_2016: FAILED\n",
      "Export_JJA_2016: FAILED\n",
      "Export_MAM_2016: FAILED\n",
      "Export_DJF_2016: FAILED\n",
      "Export_SON_2015: FAILED\n",
      "Export_JJA_2015: FAILED\n",
      "Export_MAM_2015: FAILED\n",
      "Export_DJF_2015: FAILED\n",
      "Export_SON_2014: FAILED\n",
      "Export_JJA_2014: FAILED\n",
      "Export_MAM_2014: FAILED\n",
      "Export_DJF_2014: FAILED\n",
      "Export_SON_2013: FAILED\n",
      "Export_JJA_2013: FAILED\n",
      "Export_MAM_2013: FAILED\n",
      "Export_DJF_2013: FAILED\n",
      "Export_SON_2012: FAILED\n",
      "Export_JJA_2012: FAILED\n",
      "Export_MAM_2012: FAILED\n",
      "Export_DJF_2012: FAILED\n",
      "Export_SON_2011: FAILED\n",
      "Export_JJA_2011: FAILED\n",
      "Export_MAM_2011: FAILED\n",
      "Export_DJF_2011: FAILED\n",
      "Export_SON_2010: FAILED\n",
      "Export_JJA_2010: FAILED\n",
      "Export_MAM_2010: FAILED\n",
      "Export_DJF_2010: FAILED\n",
      "Export_SON_2009: FAILED\n",
      "Export_JJA_2009: FAILED\n",
      "Export_MAM_2009: FAILED\n",
      "Export_DJF_2009: FAILED\n",
      "Export_SON_2008: FAILED\n",
      "Export_JJA_2008: FAILED\n",
      "Export_MAM_2008: FAILED\n",
      "Export_DJF_2008: FAILED\n",
      "Export_SON_2007: FAILED\n",
      "Export_JJA_2007: FAILED\n",
      "Export_MAM_2007: FAILED\n",
      "Export_DJF_2007: FAILED\n",
      "Export_SON_2006: FAILED\n",
      "Export_JJA_2006: FAILED\n",
      "Export_MAM_2006: FAILED\n",
      "Export_DJF_2006: FAILED\n",
      "Export_SON_2005: FAILED\n",
      "Export_JJA_2005: FAILED\n",
      "Export_MAM_2005: FAILED\n",
      "Export_DJF_2005: FAILED\n",
      "Export_SON_2004: FAILED\n",
      "Export_JJA_2004: FAILED\n",
      "Export_MAM_2004: FAILED\n",
      "Export_DJF_2004: FAILED\n",
      "Export_SON_2003: FAILED\n",
      "Export_JJA_2003: FAILED\n",
      "Export_MAM_2003: FAILED\n",
      "Export_DJF_2003: FAILED\n",
      "Export_SON_2002: FAILED\n",
      "Export_JJA_2002: FAILED\n",
      "Export_MAM_2002: FAILED\n",
      "Export_DJF_2002: FAILED\n",
      "Export_SON_2001: FAILED\n",
      "Export_JJA_2001: FAILED\n",
      "Export_MAM_2001: FAILED\n",
      "Export_DJF_2001: FAILED\n",
      "Export_SON_2000: FAILED\n",
      "Export_JJA_2000: FAILED\n",
      "Export_MAM_2000: FAILED\n",
      "Export_DJF_2000: FAILED\n",
      "Export_SON_2025: FAILED\n",
      "Export_JJA_2025: FAILED\n",
      "Export_MAM_2025: FAILED\n",
      "Export_DJF_2025: FAILED\n",
      "Export_SON_2024: FAILED\n",
      "Export_JJA_2024: FAILED\n",
      "Export_MAM_2024: FAILED\n",
      "Export_DJF_2024: FAILED\n",
      "Export_SON_2023: FAILED\n",
      "Export_JJA_2023: FAILED\n",
      "Export_MAM_2023: FAILED\n",
      "Export_DJF_2023: FAILED\n",
      "Export_SON_2022: FAILED\n",
      "Export_JJA_2022: FAILED\n",
      "Export_MAM_2022: FAILED\n",
      "Export_DJF_2022: FAILED\n",
      "Export_SON_2021: FAILED\n",
      "Export_JJA_2021: FAILED\n",
      "Export_MAM_2021: FAILED\n",
      "Export_DJF_2021: FAILED\n",
      "Export_SON_2020: FAILED\n",
      "Export_JJA_2020: FAILED\n",
      "Export_MAM_2020: FAILED\n",
      "Export_DJF_2020: FAILED\n",
      "Export_SON_2019: FAILED\n",
      "Export_JJA_2019: FAILED\n",
      "Export_MAM_2019: FAILED\n",
      "Export_DJF_2019: FAILED\n",
      "Export_SON_2018: FAILED\n",
      "Export_JJA_2018: FAILED\n",
      "Export_MAM_2018: FAILED\n",
      "Export_DJF_2018: FAILED\n",
      "Export_SON_2017: FAILED\n",
      "Export_JJA_2017: FAILED\n",
      "Export_MAM_2017: FAILED\n",
      "Export_DJF_2017: FAILED\n",
      "Export_SON_2016: FAILED\n",
      "Export_JJA_2016: FAILED\n",
      "Export_MAM_2016: FAILED\n",
      "Export_DJF_2016: FAILED\n",
      "Export_SON_2015: FAILED\n",
      "Export_JJA_2015: FAILED\n",
      "Export_MAM_2015: FAILED\n",
      "Export_DJF_2015: FAILED\n",
      "Export_SON_2014: FAILED\n",
      "Export_JJA_2014: FAILED\n",
      "Export_MAM_2014: FAILED\n",
      "Export_DJF_2014: FAILED\n",
      "Export_SON_2013: FAILED\n",
      "Export_JJA_2013: FAILED\n",
      "Export_MAM_2013: FAILED\n",
      "Export_DJF_2013: FAILED\n",
      "Export_SON_2012: FAILED\n",
      "Export_JJA_2012: FAILED\n",
      "Export_MAM_2012: FAILED\n",
      "Export_DJF_2012: FAILED\n",
      "Export_SON_2011: FAILED\n",
      "Export_JJA_2011: FAILED\n",
      "Export_MAM_2011: FAILED\n",
      "Export_DJF_2011: FAILED\n",
      "Export_SON_2010: FAILED\n",
      "Export_JJA_2010: FAILED\n",
      "Export_MAM_2010: FAILED\n",
      "Export_DJF_2010: FAILED\n",
      "Export_SON_2009: FAILED\n",
      "Export_JJA_2009: FAILED\n",
      "Export_MAM_2009: FAILED\n",
      "Export_DJF_2009: FAILED\n",
      "Export_SON_2008: FAILED\n",
      "Export_JJA_2008: FAILED\n",
      "Export_MAM_2008: FAILED\n",
      "Export_DJF_2008: FAILED\n",
      "Export_SON_2007: FAILED\n",
      "Export_JJA_2007: FAILED\n",
      "Export_MAM_2007: FAILED\n",
      "Export_DJF_2007: FAILED\n",
      "Export_SON_2006: FAILED\n",
      "Export_JJA_2006: FAILED\n",
      "Export_MAM_2006: FAILED\n",
      "Export_DJF_2006: FAILED\n",
      "Export_SON_2005: FAILED\n",
      "Export_JJA_2005: FAILED\n",
      "Export_MAM_2005: FAILED\n",
      "Export_DJF_2005: FAILED\n",
      "Export_SON_2004: FAILED\n",
      "Export_JJA_2004: FAILED\n",
      "Export_MAM_2004: FAILED\n",
      "Export_DJF_2004: FAILED\n",
      "Export_SON_2003: FAILED\n",
      "Export_JJA_2003: FAILED\n",
      "Export_MAM_2003: FAILED\n",
      "Export_DJF_2003: FAILED\n",
      "Export_SON_2002: FAILED\n",
      "Export_JJA_2002: FAILED\n",
      "Export_MAM_2002: FAILED\n",
      "Export_DJF_2002: FAILED\n",
      "Export_SON_2001: FAILED\n",
      "Export_JJA_2001: FAILED\n",
      "Export_MAM_2001: FAILED\n",
      "Export_DJF_2001: FAILED\n",
      "Export_SON_2000: FAILED\n",
      "Export_JJA_2000: FAILED\n",
      "Export_MAM_2000: FAILED\n",
      "Export_DJF_2000: FAILED\n",
      "EVM_SON_2005: FAILED\n",
      "EVM_JJA_2005: FAILED\n",
      "EVM_MAM_2005: FAILED\n",
      "EVM_DJF_2005: FAILED\n",
      "IgnitionRisk_CA_SON_2005_2025: COMPLETED\n",
      "IgnitionRisk_CA_JJA_2005_2025: COMPLETED\n",
      "IgnitionRisk_CA_MAM_2005_2025: COMPLETED\n",
      "IgnitionRisk_CA_DJF_2005_2025: COMPLETED\n",
      "IgnitionRisk_CA_SON_2005_2025: COMPLETED\n",
      "IgnitionRisk_CA_JJA_2005_2025: COMPLETED\n",
      "IgnitionRisk_CA_MAM_2005_2025: COMPLETED\n",
      "IgnitionRisk_CA_DJF_2005_2025: COMPLETED\n",
      "IgnitionRisk_CA_SON_2005_2025: COMPLETED\n",
      "IgnitionRisk_CA_JJA_2005_2025: COMPLETED\n",
      "IgnitionRisk_CA_MAM_2005_2025: COMPLETED\n",
      "IgnitionRisk_CA_DJF_2005_2025: COMPLETED\n",
      "IgnitionRisk_CA_SON_2005_2025: COMPLETED\n",
      "IgnitionRisk_CA_JJA_2005_2025: COMPLETED\n",
      "IgnitionRisk_CA_MAM_2005_2025: COMPLETED\n",
      "IgnitionRisk_CA_DJF_2005_2025: COMPLETED\n",
      "IgnitionRisk_CA_SON_2005_2025: COMPLETED\n",
      "IgnitionRisk_CA_JJA_2005_2025: COMPLETED\n",
      "IgnitionRisk_CA_MAM_2005_2025: COMPLETED\n",
      "IgnitionRisk_CA_DJF_2005_2025: COMPLETED\n",
      "IgnitionRisk_CA_SON_2005_2025: COMPLETED\n",
      "IgnitionRisk_CA_JJA_2005_2025: COMPLETED\n",
      "IgnitionRisk_CA_MAM_2005_2025: COMPLETED\n",
      "IgnitionRisk_CA_DJF_2005_2025: COMPLETED\n",
      "IgnitionRisk_CA_SON_2005_2025: COMPLETED\n",
      "IgnitionRisk_CA_JJA_2005_2025: COMPLETED\n",
      "IgnitionRisk_CA_MAM_2005_2025: COMPLETED\n",
      "IgnitionRisk_CA_DJF_2005_2025: COMPLETED\n",
      "IgnitionRisk_CA_SON_2005_2025: COMPLETED\n",
      "IgnitionRisk_CA_JJA_2005_2025: COMPLETED\n",
      "IgnitionRisk_CA_MAM_2005_2025: COMPLETED\n",
      "IgnitionRisk_CA_DJF_2005_2025: COMPLETED\n",
      "IgnitionRisk_CA_SON_2005_2025: COMPLETED\n",
      "IgnitionRisk_CA_JJA_2005_2025: COMPLETED\n",
      "IgnitionRisk_CA_MAM_2005_2025: COMPLETED\n",
      "IgnitionRisk_CA_DJF_2005_2025: COMPLETED\n",
      "IgnitionRisk_CA_SON_2005_2025: COMPLETED\n",
      "IgnitionRisk_CA_JJA_2005_2025: COMPLETED\n",
      "IgnitionRisk_CA_MAM_2005_2025: COMPLETED\n",
      "IgnitionRisk_CA_DJF_2005_2025: COMPLETED\n",
      "IgnitionRisk_CA_SON_2005_2025: COMPLETED\n",
      "IgnitionRisk_CA_JJA_2005_2025: COMPLETED\n",
      "IgnitionRisk_CA_MAM_2005_2025: COMPLETED\n",
      "IgnitionRisk_CA_DJF_2005_2025: COMPLETED\n",
      "IgnitionRisk_CA_SON_2005_2025: COMPLETED\n",
      "IgnitionRisk_CA_JJA_2005_2025: COMPLETED\n",
      "IgnitionRisk_CA_MAM_2005_2025: COMPLETED\n",
      "IgnitionRisk_CA_DJF_2005_2025: COMPLETED\n",
      "IgnitionRisk_CA_SON_2005_2025: COMPLETED\n",
      "IgnitionRisk_CA_JJA_2005_2025: COMPLETED\n",
      "IgnitionRisk_CA_MAM_2005_2025: COMPLETED\n",
      "IgnitionRisk_CA_DJF_2005_2025: COMPLETED\n",
      "IgnitionRisk_CA_SON_2005_2025: COMPLETED\n",
      "IgnitionRisk_CA_JJA_2005_2025: COMPLETED\n",
      "IgnitionRisk_CA_MAM_2005_2025: COMPLETED\n",
      "IgnitionRisk_CA_DJF_2005_2025: COMPLETED\n",
      "IgnitionRisk_CA_SON_2005_2025: COMPLETED\n",
      "IgnitionRisk_CA_JJA_2005_2025: COMPLETED\n",
      "IgnitionRisk_CA_MAM_2005_2025: COMPLETED\n",
      "IgnitionRisk_CA_DJF_2005_2025: COMPLETED\n",
      "IgnitionRisk_CA_SON_2005_2025: COMPLETED\n",
      "IgnitionRisk_CA_JJA_2005_2025: COMPLETED\n",
      "IgnitionRisk_CA_MAM_2005_2025: COMPLETED\n",
      "IgnitionRisk_CA_DJF_2005_2025: COMPLETED\n",
      "IgnitionRisk_CA_SON_2005_2025: COMPLETED\n",
      "IgnitionRisk_CA_JJA_2005_2025: COMPLETED\n",
      "IgnitionRisk_CA_MAM_2005_2025: COMPLETED\n",
      "IgnitionRisk_CA_DJF_2005_2025: COMPLETED\n",
      "IgnitionRiskGrid_CA_SON_2005_2025: FAILED\n",
      "IgnitionRiskGrid_CA_JJA_2005_2025: FAILED\n",
      "IgnitionRiskGrid_CA_MAM_2005_2025: FAILED\n",
      "IgnitionRiskGrid_CA_DJF_2005_2025: FAILED\n",
      "IgnitionRiskGrid_CA_SON_2005_2025: FAILED\n",
      "IgnitionRiskGrid_CA_JJA_2005_2025: FAILED\n",
      "IgnitionRiskGrid_CA_MAM_2005_2025: FAILED\n",
      "IgnitionRiskGrid_CA_DJF_2005_2025: FAILED\n",
      "IgnitionRiskGrid_CA_SON_2005_2025: FAILED\n",
      "IgnitionRiskGrid_CA_JJA_2005_2025: FAILED\n",
      "IgnitionRiskGrid_CA_MAM_2005_2025: FAILED\n",
      "IgnitionRiskGrid_CA_DJF_2005_2025: FAILED\n",
      "IgnitionRiskGrid_CA_SON_2005_2025: COMPLETED\n",
      "IgnitionRiskGrid_CA_JJA_2005_2025: COMPLETED\n",
      "IgnitionRiskGrid_CA_MAM_2005_2025: COMPLETED\n",
      "IgnitionRiskGrid_CA_DJF_2005_2025: COMPLETED\n",
      "IgnitionRiskGrid_CA_SON_2005_2025: FAILED\n",
      "IgnitionRiskGrid_CA_JJA_2005_2025: FAILED\n",
      "IgnitionRiskGrid_CA_MAM_2005_2025: FAILED\n",
      "IgnitionRiskGrid_CA_DJF_2005_2025: FAILED\n",
      "IgnitionRisk_CA_SON_2005_2025: COMPLETED\n",
      "IgnitionRisk_CA_JJA_2005_2025: COMPLETED\n",
      "IgnitionRisk_CA_MAM_2005_2025: COMPLETED\n",
      "IgnitionRisk_CA_DJF_2005_2025: COMPLETED\n",
      "IgnitionRisk_CA_SON_2005_2025: FAILED\n",
      "IgnitionRisk_CA_JJA_2005_2025: FAILED\n",
      "IgnitionRisk_CA_MAM_2005_2025: FAILED\n",
      "IgnitionRisk_CA_DJF_2005_2025: FAILED\n",
      "IgnitionRisk_CA_SON_2005_2025: COMPLETED\n",
      "IgnitionRisk_CA_JJA_2005_2025: COMPLETED\n",
      "IgnitionRisk_CA_MAM_2005_2025: COMPLETED\n",
      "IgnitionRisk_CA_DJF_2005_2025: COMPLETED\n",
      "IgnitionRisk_CA_SON_2005_2025: COMPLETED\n",
      "IgnitionRisk_CA_JJA_2005_2025: COMPLETED\n",
      "IgnitionRisk_CA_MAM_2005_2025: FAILED\n",
      "IgnitionRisk_CA_DJF_2005_2025: FAILED\n",
      "IgnitionRisk_CA_SON_2005_2025: FAILED\n",
      "IgnitionRisk_CA_JJA_2005_2025: FAILED\n",
      "IgnitionRisk_CA_MAM_2005_2025: FAILED\n",
      "IgnitionRisk_CA_DJF_2005_2025: FAILED\n",
      "IgnitionRisk_CA_SON_2005_2025: FAILED\n",
      "IgnitionRisk_CA_JJA_2005_2025: FAILED\n",
      "IgnitionRisk_CA_MAM_2005_2025: FAILED\n",
      "IgnitionRisk_CA_DJF_2005_2025: FAILED\n",
      "IgnitionRisk_CA_SON_2005_2025: FAILED\n",
      "IgnitionRisk_CA_JJA_2005_2025: FAILED\n",
      "IgnitionRisk_CA_MAM_2005_2025: FAILED\n",
      "IgnitionRisk_CA_DJF_2005_2025: FAILED\n",
      "IgnitionRisk_CA_SON_2005_2025: COMPLETED\n",
      "IgnitionRisk_CA_JJA_2005_2025: COMPLETED\n",
      "IgnitionRisk_CA_MAM_2005_2025: COMPLETED\n",
      "IgnitionRisk_CA_DJF_2005_2025: COMPLETED\n",
      "IgnitionRisk_CA_SON_2005_2025: FAILED\n",
      "IgnitionRisk_CA_JJA_2005_2025: FAILED\n",
      "IgnitionRisk_CA_MAM_2005_2025: FAILED\n",
      "IgnitionRisk_CA_DJF_2005_2025: FAILED\n",
      "IgnitionRisk_CA_SON_2005_2025: FAILED\n",
      "IgnitionRisk_CA_JJA_2005_2025: FAILED\n",
      "IgnitionRisk_CA_MAM_2005_2025: FAILED\n",
      "IgnitionRisk_CA_DJF_2005_2025: FAILED\n",
      "IgnitionRisk_CA_SON_2005_2025: FAILED\n",
      "IgnitionRisk_CA_JJA_2005_2025: FAILED\n",
      "IgnitionRisk_CA_MAM_2005_2025: FAILED\n",
      "IgnitionRisk_CA_DJF_2005_2025: FAILED\n",
      "IgnitionRisk_CA_SON_2005_2025: FAILED\n",
      "IgnitionRisk_CA_JJA_2005_2025: FAILED\n",
      "IgnitionRisk_CA_MAM_2005_2025: FAILED\n",
      "IgnitionRisk_CA_DJF_2005_2025: FAILED\n",
      "IgnitionRisk_CA_SON_2005_2025: FAILED\n",
      "IgnitionRisk_CA_JJA_2005_2025: FAILED\n",
      "IgnitionRisk_CA_MAM_2005_2025: FAILED\n",
      "IgnitionRisk_CA_DJF_2005_2025: FAILED\n",
      "IgnitionRisk_CA_SON_2005_2025: FAILED\n",
      "IgnitionRisk_CA_JJA_2005_2025: FAILED\n",
      "IgnitionRisk_CA_MAM_2005_2025: FAILED\n",
      "IgnitionRisk_CA_DJF_2005_2025: FAILED\n",
      "IgnitionRisk_CA_SON_2005_2025: FAILED\n",
      "IgnitionRisk_CA_JJA_2005_2025: FAILED\n",
      "IgnitionRisk_CA_MAM_2005_2025: FAILED\n",
      "IgnitionRisk_CA_DJF_2005_2025: FAILED\n",
      "IgnitionRisk_CA_SON_2005_2025: FAILED\n",
      "IgnitionRisk_CA_JJA_2005_2025: FAILED\n",
      "IgnitionRisk_CA_MAM_2005_2025: FAILED\n",
      "IgnitionRisk_CA_DJF_2005_2025: FAILED\n",
      "IgnitionRisk_CA_SON_2005_2025: COMPLETED\n",
      "IgnitionRisk_CA_JJA_2005_2025: COMPLETED\n",
      "IgnitionRisk_CA_MAM_2005_2025: COMPLETED\n",
      "IgnitionRisk_CA_SON_2005_2025: COMPLETED\n",
      "IgnitionRisk_CA_JJA_2005_2025: COMPLETED\n",
      "IgnitionRisk_CA_MAM_2005_2025: COMPLETED\n",
      "IgnitionRisk_CA_DJF_2005_2025: COMPLETED\n",
      "IgnitionRisk_CA_SON_2005_2025: FAILED\n",
      "IgnitionRisk_CA_JJA_2005_2025: FAILED\n",
      "IgnitionRisk_CA_MAM_2005_2025: FAILED\n",
      "IgnitionRisk_CA_DJF_2005_2025: FAILED\n",
      "IgnitionRisk_CA_SON_2005_2025: FAILED\n",
      "IgnitionRisk_CA_JJA_2005_2025: FAILED\n",
      "IgnitionRisk_CA_MAM_2005_2025: FAILED\n",
      "IgnitionRisk_CA_DJF_2005_2025: FAILED\n",
      "IgnitionRisk_CA_SON_2005_2025: FAILED\n",
      "IgnitionRisk_CA_JJA_2005_2025: FAILED\n",
      "IgnitionRisk_CA_MAM_2005_2025: FAILED\n",
      "IgnitionRisk_CA_DJF_2005_2025: FAILED\n",
      "IgnitionRisk_CA_SON_2005_2025: FAILED\n",
      "IgnitionRisk_CA_JJA_2005_2025: FAILED\n",
      "IgnitionRisk_CA_MAM_2005_2025: FAILED\n",
      "IgnitionRisk_CA_DJF_2005_2025: FAILED\n",
      "IgnitionRisk_CA_SON_2005_2025: FAILED\n",
      "IgnitionRisk_CA_JJA_2005_2025: FAILED\n",
      "IgnitionRisk_CA_MAM_2005_2025: FAILED\n",
      "IgnitionRisk_CA_DJF_2005_2025: FAILED\n",
      "IgnitionRisk_CA_SON_2005_2025: COMPLETED\n",
      "IgnitionRisk_CA_JJA_2005_2025: COMPLETED\n",
      "IgnitionRisk_CA_MAM_2005_2025: COMPLETED\n",
      "IgnitionRisk_CA_DJF_2005_2025: COMPLETED\n",
      "IgnitionRisk_CA_SON_2005_2025: COMPLETED\n",
      "IgnitionRisk_CA_JJA_2005_2025: COMPLETED\n",
      "IgnitionRisk_CA_MAM_2005_2025: COMPLETED\n",
      "IgnitionRisk_CA_DJF_2005_2025: COMPLETED\n",
      "IgnitionRisk_CA_JJA_2005_2025: COMPLETED\n",
      "IgnitionRisk_CA_MAM_2005_2025: COMPLETED\n",
      "IgnitionRisk_CA_DJF_2005_2025: COMPLETED\n",
      "IgnitionRisk_CA_MAM_2005_2025: COMPLETED\n",
      "IgnitionRisk_CA_DJF_2005_2025: COMPLETED\n",
      "IgnitionRisk_CA_SON_2005_2025: FAILED\n",
      "IgnitionRisk_CA_JJA_2005_2025: FAILED\n",
      "IgnitionRisk_CA_MAM_2005_2025: COMPLETED\n",
      "IgnitionRisk_CA_DJF_2005_2025: COMPLETED\n"
     ]
    }
   ],
   "source": [
    "import ee\n",
    "ee.Initialize(project='california-fire-model')\n",
    "\n",
    "tasks = ee.batch.Task.list()\n",
    "for task in tasks:\n",
    "    print(f\"{task.config['description']}: {task.state}\")\n"
   ]
  },
  {
   "cell_type": "markdown",
   "metadata": {
    "id": "etpkT8c4WeM-"
   },
   "source": [
    "export these ignition risk maps/ images in google bucket."
   ]
  },
  {
   "cell_type": "code",
   "execution_count": null,
   "metadata": {
    "colab": {
     "base_uri": "https://localhost:8080/",
     "height": 1000
    },
    "id": "Y7pZBQHFXfki",
    "outputId": "31a6ddf9-d10a-44e1-bece-0e82cf0b81ba"
   },
   "outputs": [
    {
     "data": {
      "text/html": [
       "\n",
       "            <style>\n",
       "                .geemap-dark {\n",
       "                    --jp-widgets-color: white;\n",
       "                    --jp-widgets-label-color: white;\n",
       "                    --jp-ui-font-color1: white;\n",
       "                    --jp-layout-color2: #454545;\n",
       "                    background-color: #383838;\n",
       "                }\n",
       "\n",
       "                .geemap-dark .jupyter-button {\n",
       "                    --jp-layout-color3: #383838;\n",
       "                }\n",
       "\n",
       "                .geemap-colab {\n",
       "                    background-color: var(--colab-primary-surface-color, white);\n",
       "                }\n",
       "\n",
       "                .geemap-colab .jupyter-button {\n",
       "                    --jp-layout-color3: var(--colab-primary-surface-color, white);\n",
       "                }\n",
       "            </style>\n",
       "            "
      ],
      "text/plain": [
       "<IPython.core.display.HTML object>"
      ]
     },
     "metadata": {},
     "output_type": "display_data"
    },
    {
     "name": "stdout",
     "output_type": "stream",
     "text": [
      "📦 Exporting BIM for: DJF 2000\n",
      "🚀 Export started → gs://california-fire-model/bims/DJF/BIM_DJF_2000.tif\n",
      "📦 Exporting BIM for: MAM 2000\n",
      "🚀 Export started → gs://california-fire-model/bims/MAM/BIM_MAM_2000.tif\n",
      "📦 Exporting BIM for: JJA 2000\n",
      "🚀 Export started → gs://california-fire-model/bims/JJA/BIM_JJA_2000.tif\n",
      "📦 Exporting BIM for: SON 2000\n",
      "🚀 Export started → gs://california-fire-model/bims/SON/BIM_SON_2000.tif\n",
      "📦 Exporting BIM for: DJF 2001\n",
      "🚀 Export started → gs://california-fire-model/bims/DJF/BIM_DJF_2001.tif\n",
      "📦 Exporting BIM for: MAM 2001\n",
      "🚀 Export started → gs://california-fire-model/bims/MAM/BIM_MAM_2001.tif\n",
      "📦 Exporting BIM for: JJA 2001\n",
      "🚀 Export started → gs://california-fire-model/bims/JJA/BIM_JJA_2001.tif\n",
      "📦 Exporting BIM for: SON 2001\n",
      "🚀 Export started → gs://california-fire-model/bims/SON/BIM_SON_2001.tif\n",
      "📦 Exporting BIM for: DJF 2002\n",
      "🚀 Export started → gs://california-fire-model/bims/DJF/BIM_DJF_2002.tif\n",
      "📦 Exporting BIM for: MAM 2002\n",
      "🚀 Export started → gs://california-fire-model/bims/MAM/BIM_MAM_2002.tif\n",
      "📦 Exporting BIM for: JJA 2002\n",
      "🚀 Export started → gs://california-fire-model/bims/JJA/BIM_JJA_2002.tif\n",
      "📦 Exporting BIM for: SON 2002\n",
      "🚀 Export started → gs://california-fire-model/bims/SON/BIM_SON_2002.tif\n",
      "📦 Exporting BIM for: DJF 2003\n",
      "🚀 Export started → gs://california-fire-model/bims/DJF/BIM_DJF_2003.tif\n",
      "📦 Exporting BIM for: MAM 2003\n",
      "🚀 Export started → gs://california-fire-model/bims/MAM/BIM_MAM_2003.tif\n",
      "📦 Exporting BIM for: JJA 2003\n",
      "🚀 Export started → gs://california-fire-model/bims/JJA/BIM_JJA_2003.tif\n",
      "📦 Exporting BIM for: SON 2003\n",
      "🚀 Export started → gs://california-fire-model/bims/SON/BIM_SON_2003.tif\n",
      "📦 Exporting BIM for: DJF 2004\n",
      "🚀 Export started → gs://california-fire-model/bims/DJF/BIM_DJF_2004.tif\n",
      "📦 Exporting BIM for: MAM 2004\n",
      "🚀 Export started → gs://california-fire-model/bims/MAM/BIM_MAM_2004.tif\n",
      "📦 Exporting BIM for: JJA 2004\n",
      "🚀 Export started → gs://california-fire-model/bims/JJA/BIM_JJA_2004.tif\n",
      "📦 Exporting BIM for: SON 2004\n",
      "🚀 Export started → gs://california-fire-model/bims/SON/BIM_SON_2004.tif\n",
      "📦 Exporting BIM for: DJF 2005\n",
      "🚀 Export started → gs://california-fire-model/bims/DJF/BIM_DJF_2005.tif\n",
      "📦 Exporting BIM for: MAM 2005\n",
      "🚀 Export started → gs://california-fire-model/bims/MAM/BIM_MAM_2005.tif\n",
      "📦 Exporting BIM for: JJA 2005\n",
      "🚀 Export started → gs://california-fire-model/bims/JJA/BIM_JJA_2005.tif\n",
      "📦 Exporting BIM for: SON 2005\n",
      "🚀 Export started → gs://california-fire-model/bims/SON/BIM_SON_2005.tif\n",
      "📦 Exporting BIM for: DJF 2006\n",
      "🚀 Export started → gs://california-fire-model/bims/DJF/BIM_DJF_2006.tif\n",
      "📦 Exporting BIM for: MAM 2006\n",
      "🚀 Export started → gs://california-fire-model/bims/MAM/BIM_MAM_2006.tif\n",
      "📦 Exporting BIM for: JJA 2006\n",
      "🚀 Export started → gs://california-fire-model/bims/JJA/BIM_JJA_2006.tif\n",
      "📦 Exporting BIM for: SON 2006\n",
      "🚀 Export started → gs://california-fire-model/bims/SON/BIM_SON_2006.tif\n",
      "📦 Exporting BIM for: DJF 2007\n",
      "🚀 Export started → gs://california-fire-model/bims/DJF/BIM_DJF_2007.tif\n",
      "📦 Exporting BIM for: MAM 2007\n",
      "🚀 Export started → gs://california-fire-model/bims/MAM/BIM_MAM_2007.tif\n",
      "📦 Exporting BIM for: JJA 2007\n",
      "🚀 Export started → gs://california-fire-model/bims/JJA/BIM_JJA_2007.tif\n",
      "📦 Exporting BIM for: SON 2007\n",
      "🚀 Export started → gs://california-fire-model/bims/SON/BIM_SON_2007.tif\n",
      "📦 Exporting BIM for: DJF 2008\n",
      "🚀 Export started → gs://california-fire-model/bims/DJF/BIM_DJF_2008.tif\n",
      "📦 Exporting BIM for: MAM 2008\n",
      "🚀 Export started → gs://california-fire-model/bims/MAM/BIM_MAM_2008.tif\n",
      "📦 Exporting BIM for: JJA 2008\n",
      "🚀 Export started → gs://california-fire-model/bims/JJA/BIM_JJA_2008.tif\n",
      "📦 Exporting BIM for: SON 2008\n",
      "🚀 Export started → gs://california-fire-model/bims/SON/BIM_SON_2008.tif\n",
      "📦 Exporting BIM for: DJF 2009\n",
      "🚀 Export started → gs://california-fire-model/bims/DJF/BIM_DJF_2009.tif\n",
      "📦 Exporting BIM for: MAM 2009\n",
      "🚀 Export started → gs://california-fire-model/bims/MAM/BIM_MAM_2009.tif\n",
      "📦 Exporting BIM for: JJA 2009\n",
      "🚀 Export started → gs://california-fire-model/bims/JJA/BIM_JJA_2009.tif\n",
      "📦 Exporting BIM for: SON 2009\n",
      "🚀 Export started → gs://california-fire-model/bims/SON/BIM_SON_2009.tif\n",
      "📦 Exporting BIM for: DJF 2010\n",
      "🚀 Export started → gs://california-fire-model/bims/DJF/BIM_DJF_2010.tif\n",
      "📦 Exporting BIM for: MAM 2010\n",
      "🚀 Export started → gs://california-fire-model/bims/MAM/BIM_MAM_2010.tif\n",
      "📦 Exporting BIM for: JJA 2010\n",
      "🚀 Export started → gs://california-fire-model/bims/JJA/BIM_JJA_2010.tif\n",
      "📦 Exporting BIM for: SON 2010\n",
      "🚀 Export started → gs://california-fire-model/bims/SON/BIM_SON_2010.tif\n",
      "📦 Exporting BIM for: DJF 2011\n",
      "🚀 Export started → gs://california-fire-model/bims/DJF/BIM_DJF_2011.tif\n",
      "📦 Exporting BIM for: MAM 2011\n",
      "🚀 Export started → gs://california-fire-model/bims/MAM/BIM_MAM_2011.tif\n",
      "📦 Exporting BIM for: JJA 2011\n",
      "🚀 Export started → gs://california-fire-model/bims/JJA/BIM_JJA_2011.tif\n",
      "📦 Exporting BIM for: SON 2011\n",
      "🚀 Export started → gs://california-fire-model/bims/SON/BIM_SON_2011.tif\n",
      "📦 Exporting BIM for: DJF 2012\n",
      "🚀 Export started → gs://california-fire-model/bims/DJF/BIM_DJF_2012.tif\n",
      "📦 Exporting BIM for: MAM 2012\n",
      "🚀 Export started → gs://california-fire-model/bims/MAM/BIM_MAM_2012.tif\n",
      "📦 Exporting BIM for: JJA 2012\n",
      "🚀 Export started → gs://california-fire-model/bims/JJA/BIM_JJA_2012.tif\n",
      "📦 Exporting BIM for: SON 2012\n",
      "🚀 Export started → gs://california-fire-model/bims/SON/BIM_SON_2012.tif\n",
      "📦 Exporting BIM for: DJF 2013\n",
      "🚀 Export started → gs://california-fire-model/bims/DJF/BIM_DJF_2013.tif\n",
      "📦 Exporting BIM for: MAM 2013\n",
      "🚀 Export started → gs://california-fire-model/bims/MAM/BIM_MAM_2013.tif\n",
      "📦 Exporting BIM for: JJA 2013\n",
      "🚀 Export started → gs://california-fire-model/bims/JJA/BIM_JJA_2013.tif\n",
      "📦 Exporting BIM for: SON 2013\n",
      "🚀 Export started → gs://california-fire-model/bims/SON/BIM_SON_2013.tif\n",
      "📦 Exporting BIM for: DJF 2014\n",
      "🚀 Export started → gs://california-fire-model/bims/DJF/BIM_DJF_2014.tif\n",
      "📦 Exporting BIM for: MAM 2014\n",
      "🚀 Export started → gs://california-fire-model/bims/MAM/BIM_MAM_2014.tif\n",
      "📦 Exporting BIM for: JJA 2014\n",
      "🚀 Export started → gs://california-fire-model/bims/JJA/BIM_JJA_2014.tif\n",
      "📦 Exporting BIM for: SON 2014\n",
      "🚀 Export started → gs://california-fire-model/bims/SON/BIM_SON_2014.tif\n",
      "📦 Exporting BIM for: DJF 2015\n",
      "🚀 Export started → gs://california-fire-model/bims/DJF/BIM_DJF_2015.tif\n",
      "📦 Exporting BIM for: MAM 2015\n",
      "🚀 Export started → gs://california-fire-model/bims/MAM/BIM_MAM_2015.tif\n",
      "📦 Exporting BIM for: JJA 2015\n",
      "🚀 Export started → gs://california-fire-model/bims/JJA/BIM_JJA_2015.tif\n",
      "📦 Exporting BIM for: SON 2015\n",
      "🚀 Export started → gs://california-fire-model/bims/SON/BIM_SON_2015.tif\n",
      "📦 Exporting BIM for: DJF 2016\n",
      "🚀 Export started → gs://california-fire-model/bims/DJF/BIM_DJF_2016.tif\n",
      "📦 Exporting BIM for: MAM 2016\n",
      "🚀 Export started → gs://california-fire-model/bims/MAM/BIM_MAM_2016.tif\n",
      "📦 Exporting BIM for: JJA 2016\n",
      "🚀 Export started → gs://california-fire-model/bims/JJA/BIM_JJA_2016.tif\n",
      "📦 Exporting BIM for: SON 2016\n",
      "🚀 Export started → gs://california-fire-model/bims/SON/BIM_SON_2016.tif\n",
      "📦 Exporting BIM for: DJF 2017\n",
      "🚀 Export started → gs://california-fire-model/bims/DJF/BIM_DJF_2017.tif\n",
      "📦 Exporting BIM for: MAM 2017\n",
      "🚀 Export started → gs://california-fire-model/bims/MAM/BIM_MAM_2017.tif\n",
      "📦 Exporting BIM for: JJA 2017\n",
      "🚀 Export started → gs://california-fire-model/bims/JJA/BIM_JJA_2017.tif\n",
      "📦 Exporting BIM for: SON 2017\n",
      "🚀 Export started → gs://california-fire-model/bims/SON/BIM_SON_2017.tif\n",
      "📦 Exporting BIM for: DJF 2018\n",
      "🚀 Export started → gs://california-fire-model/bims/DJF/BIM_DJF_2018.tif\n",
      "📦 Exporting BIM for: MAM 2018\n",
      "🚀 Export started → gs://california-fire-model/bims/MAM/BIM_MAM_2018.tif\n",
      "📦 Exporting BIM for: JJA 2018\n",
      "🚀 Export started → gs://california-fire-model/bims/JJA/BIM_JJA_2018.tif\n",
      "📦 Exporting BIM for: SON 2018\n",
      "🚀 Export started → gs://california-fire-model/bims/SON/BIM_SON_2018.tif\n",
      "📦 Exporting BIM for: DJF 2019\n",
      "🚀 Export started → gs://california-fire-model/bims/DJF/BIM_DJF_2019.tif\n",
      "📦 Exporting BIM for: MAM 2019\n",
      "🚀 Export started → gs://california-fire-model/bims/MAM/BIM_MAM_2019.tif\n",
      "📦 Exporting BIM for: JJA 2019\n",
      "🚀 Export started → gs://california-fire-model/bims/JJA/BIM_JJA_2019.tif\n",
      "📦 Exporting BIM for: SON 2019\n",
      "🚀 Export started → gs://california-fire-model/bims/SON/BIM_SON_2019.tif\n",
      "📦 Exporting BIM for: DJF 2020\n",
      "🚀 Export started → gs://california-fire-model/bims/DJF/BIM_DJF_2020.tif\n",
      "📦 Exporting BIM for: MAM 2020\n",
      "🚀 Export started → gs://california-fire-model/bims/MAM/BIM_MAM_2020.tif\n",
      "📦 Exporting BIM for: JJA 2020\n",
      "🚀 Export started → gs://california-fire-model/bims/JJA/BIM_JJA_2020.tif\n",
      "📦 Exporting BIM for: SON 2020\n",
      "🚀 Export started → gs://california-fire-model/bims/SON/BIM_SON_2020.tif\n",
      "📦 Exporting BIM for: DJF 2021\n",
      "🚀 Export started → gs://california-fire-model/bims/DJF/BIM_DJF_2021.tif\n",
      "📦 Exporting BIM for: MAM 2021\n",
      "🚀 Export started → gs://california-fire-model/bims/MAM/BIM_MAM_2021.tif\n",
      "📦 Exporting BIM for: JJA 2021\n",
      "🚀 Export started → gs://california-fire-model/bims/JJA/BIM_JJA_2021.tif\n",
      "📦 Exporting BIM for: SON 2021\n",
      "🚀 Export started → gs://california-fire-model/bims/SON/BIM_SON_2021.tif\n",
      "📦 Exporting BIM for: DJF 2022\n",
      "🚀 Export started → gs://california-fire-model/bims/DJF/BIM_DJF_2022.tif\n",
      "📦 Exporting BIM for: MAM 2022\n",
      "🚀 Export started → gs://california-fire-model/bims/MAM/BIM_MAM_2022.tif\n",
      "📦 Exporting BIM for: JJA 2022\n",
      "🚀 Export started → gs://california-fire-model/bims/JJA/BIM_JJA_2022.tif\n",
      "📦 Exporting BIM for: SON 2022\n",
      "🚀 Export started → gs://california-fire-model/bims/SON/BIM_SON_2022.tif\n",
      "📦 Exporting BIM for: DJF 2023\n",
      "🚀 Export started → gs://california-fire-model/bims/DJF/BIM_DJF_2023.tif\n",
      "📦 Exporting BIM for: MAM 2023\n",
      "🚀 Export started → gs://california-fire-model/bims/MAM/BIM_MAM_2023.tif\n",
      "📦 Exporting BIM for: JJA 2023\n",
      "🚀 Export started → gs://california-fire-model/bims/JJA/BIM_JJA_2023.tif\n",
      "📦 Exporting BIM for: SON 2023\n",
      "🚀 Export started → gs://california-fire-model/bims/SON/BIM_SON_2023.tif\n",
      "📦 Exporting BIM for: DJF 2024\n",
      "🚀 Export started → gs://california-fire-model/bims/DJF/BIM_DJF_2024.tif\n",
      "📦 Exporting BIM for: MAM 2024\n",
      "🚀 Export started → gs://california-fire-model/bims/MAM/BIM_MAM_2024.tif\n",
      "📦 Exporting BIM for: JJA 2024\n",
      "🚀 Export started → gs://california-fire-model/bims/JJA/BIM_JJA_2024.tif\n",
      "📦 Exporting BIM for: SON 2024\n",
      "🚀 Export started → gs://california-fire-model/bims/SON/BIM_SON_2024.tif\n",
      "📦 Exporting BIM for: DJF 2025\n",
      "🚀 Export started → gs://california-fire-model/bims/DJF/BIM_DJF_2025.tif\n",
      "📦 Exporting BIM for: MAM 2025\n",
      "🚀 Export started → gs://california-fire-model/bims/MAM/BIM_MAM_2025.tif\n",
      "📦 Exporting BIM for: JJA 2025\n",
      "🚀 Export started → gs://california-fire-model/bims/JJA/BIM_JJA_2025.tif\n",
      "📦 Exporting BIM for: SON 2025\n",
      "🚀 Export started → gs://california-fire-model/bims/SON/BIM_SON_2025.tif\n"
     ]
    }
   ],
   "source": [
    "import ee\n",
    "import geemap\n",
    "\n",
    "# Authenticate and initialize Earth Engine\n",
    "ee.Authenticate()\n",
    "ee.Initialize(project='california-fire-model')\n",
    "\n",
    "# Define California geometry\n",
    "california = ee.FeatureCollection(\"TIGER/2018/States\") \\\n",
    "    .filter(ee.Filter.eq(\"NAME\", \"California\")) \\\n",
    "    .geometry()\n",
    "\n",
    "# MODIS Burned Area\n",
    "modis_ba = ee.ImageCollection(\"MODIS/061/MCD64A1\").select('BurnDate')\n",
    "\n",
    "# Seasons\n",
    "seasons = {\n",
    "    'DJF': ([12, 1, 2], 'Dec-Feb'),\n",
    "    'MAM': ([3, 4, 5], 'Mar-May'),\n",
    "    'JJA': ([6, 7, 8], 'Jun-Aug'),\n",
    "    'SON': ([9, 10, 11], 'Sep-Nov')\n",
    "}\n",
    "\n",
    "def get_season_dates(year, months):\n",
    "    start_month = months[0]\n",
    "    end_month = months[-1]\n",
    "    if start_month > end_month:\n",
    "        return ee.Date(f'{year-1}-{start_month:02d}-01'), ee.Date(f'{year}-{end_month:02d}-28')\n",
    "    else:\n",
    "        return ee.Date(f'{year}-{start_month:02d}-01'), ee.Date(f'{year}-{end_month:02d}-28')\n",
    "\n",
    "# Set GCS bucket\n",
    "bucket_name = 'california-fire-model'\n",
    "scale = 500\n",
    "crs = 'EPSG:4326'\n",
    "\n",
    "for year in range(2000, 2026):\n",
    "    for season_key, (months, label) in seasons.items():\n",
    "        print(f\"📦 Exporting BIM for: {season_key} {year}\")\n",
    "        start, end = get_season_dates(year, months)\n",
    "\n",
    "        # Create binary ignition map for the season and year\n",
    "        seasonal_fire = modis_ba.filterDate(start, end).map(lambda img: img.gt(0).rename('Fire'))\n",
    "        count = seasonal_fire.size()\n",
    "\n",
    "        season_sum = ee.Image(ee.Algorithms.If(\n",
    "            count.gt(0),\n",
    "            seasonal_fire.sum().clip(california),\n",
    "            ee.Image.constant(0).rename('Fire').clip(california)\n",
    "        ))\n",
    "\n",
    "        bim = season_sum.gt(0).rename('BIM').toFloat()\n",
    "\n",
    "        # Export to GCS\n",
    "        file_prefix = f'bims/{season_key}/BIM_{season_key}_{year}'\n",
    "        task = ee.batch.Export.image.toCloudStorage(\n",
    "            image=bim,\n",
    "            description=f'Export_BIM_{season_key}_{year}',\n",
    "            bucket=bucket_name,\n",
    "            fileNamePrefix=file_prefix,\n",
    "            region=california,\n",
    "            scale=scale,\n",
    "            crs=crs,\n",
    "            maxPixels=1e13\n",
    "        )\n",
    "        task.start()\n",
    "        print(f\"🚀 Export started → gs://{bucket_name}/{file_prefix}.tif\")\n"
   ]
  },
  {
   "cell_type": "markdown",
   "metadata": {
    "id": "XdRsuJoWHcBz"
   },
   "source": [
    " 1: Setup and Mount Google Cloud\n",
    "We’ll begin by:\n",
    "\n",
    "Authenticating to GCP\n",
    "\n",
    "Verifying access to your bucket (california-fire-model)\n",
    "\n",
    "Installing necessary packages\n",
    "\n"
   ]
  },
  {
   "cell_type": "code",
   "execution_count": null,
   "metadata": {
    "colab": {
     "base_uri": "https://localhost:8080/"
    },
    "id": "R_p9QZcUHc9t",
    "outputId": "65dac3dd-2af1-44c6-91b0-198ca1159c29"
   },
   "outputs": [
    {
     "name": "stdout",
     "output_type": "stream",
     "text": [
      "Go to the following link in your browser, and complete the sign-in prompts:\n",
      "\n",
      "    https://accounts.google.com/o/oauth2/auth?response_type=code&client_id=764086051850-6qr4p6gpi6hn506pt8ejuq83di341hur.apps.googleusercontent.com&redirect_uri=https%3A%2F%2Fsdk.cloud.google.com%2Fapplicationdefaultauthcode.html&scope=openid+https%3A%2F%2Fwww.googleapis.com%2Fauth%2Fuserinfo.email+https%3A%2F%2Fwww.googleapis.com%2Fauth%2Fcloud-platform+https%3A%2F%2Fwww.googleapis.com%2Fauth%2Fsqlservice.login&state=QoWZKuDIN9cj90ePE1onm3vLJc1Ihg&prompt=consent&token_usage=remote&access_type=offline&code_challenge=kpJsaRooCSXAGktPO6uYSMYxTTnDSzlj04pK79aoLo8&code_challenge_method=S256\n",
      "\n",
      "Once finished, enter the verification code provided in your browser: 4/0AVMBsJjBpGQ0iVOeZYE6KwmZ6yYHlI2c9xHOfF1roXAA2DnZLTDn52bX0n3FVyYp4OyBtg\n",
      "\n",
      "Credentials saved to file: [/content/.config/application_default_credentials.json]\n",
      "\n",
      "These credentials will be used by any library that requests Application Default Credentials (ADC).\n",
      "\u001b[1;33mWARNING:\u001b[0m \n",
      "Cannot find a quota project to add to ADC. You might receive a \"quota exceeded\" or \"API not enabled\" error. Run $ gcloud auth application-default set-quota-project to add a quota project.\n",
      "\u001b[2K   \u001b[90m━━━━━━━━━━━━━━━━━━━━━━━━━━━━━━━━━━━━━━━━\u001b[0m \u001b[32m22.2/22.2 MB\u001b[0m \u001b[31m78.4 MB/s\u001b[0m eta \u001b[36m0:00:00\u001b[0m\n",
      "\u001b[2K   \u001b[90m━━━━━━━━━━━━━━━━━━━━━━━━━━━━━━━━━━━━━━━━\u001b[0m \u001b[32m49.6/49.6 MB\u001b[0m \u001b[31m16.7 MB/s\u001b[0m eta \u001b[36m0:00:00\u001b[0m\n",
      "\u001b[?25h"
     ]
    }
   ],
   "source": [
    "  # PART 1: Authenticate and Set Up Environment\n",
    "  from google.colab import auth\n",
    "  auth.authenticate_user()\n",
    "\n",
    "  # Login to access Google Cloud\n",
    "  !gcloud auth application-default login --quiet\n",
    "\n",
    "  # Your GCS bucket name\n",
    "  gcs_bucket = 'california-fire-model'\n",
    "  gcs_path = f'gs://{gcs_bucket}'\n",
    "\n",
    "  # Install required libraries\n",
    "  !pip install rasterio geopandas tensorflow tensorflow_io --quiet\n"
   ]
  },
  {
   "cell_type": "code",
   "execution_count": null,
   "metadata": {
    "id": "0EB0nb7KIcDU"
   },
   "outputs": [],
   "source": [
    "!pip install google-cloud-storage rasterio geopandas tensorflow tensorflow-io --quiet\n"
   ]
  },
  {
   "cell_type": "code",
   "execution_count": null,
   "metadata": {
    "colab": {
     "base_uri": "https://localhost:8080/"
    },
    "id": "BjSvRZkgTNNp",
    "outputId": "d7cd402e-2952-465f-afe7-cebc6009e9ed"
   },
   "outputs": [
    {
     "name": "stderr",
     "output_type": "stream",
     "text": [
      "/usr/local/lib/python3.11/dist-packages/google/auth/_default.py:76: UserWarning: Your application has authenticated using end user credentials from Google Cloud SDK without a quota project. You might receive a \"quota exceeded\" or \"API not enabled\" error. See the following page for troubleshooting: https://cloud.google.com/docs/authentication/adc-troubleshooting/user-creds. \n",
      "  warnings.warn(_CLOUD_SDK_CREDENTIALS_WARNING)\n"
     ]
    },
    {
     "name": "stdout",
     "output_type": "stream",
     "text": [
      "Go to the following link in your browser, and complete the sign-in prompts:\n",
      "\n",
      "    https://accounts.google.com/o/oauth2/auth?response_type=code&client_id=764086051850-6qr4p6gpi6hn506pt8ejuq83di341hur.apps.googleusercontent.com&redirect_uri=https%3A%2F%2Fsdk.cloud.google.com%2Fapplicationdefaultauthcode.html&scope=openid+https%3A%2F%2Fwww.googleapis.com%2Fauth%2Fuserinfo.email+https%3A%2F%2Fwww.googleapis.com%2Fauth%2Fcloud-platform+https%3A%2F%2Fwww.googleapis.com%2Fauth%2Fsqlservice.login&state=MwfljCxuwhysQGzNGpvvQwVGwiWvjG&prompt=consent&token_usage=remote&access_type=offline&code_challenge=14fTwGLphxvIFWZcK2pTFu11o4_fhmu3JJz3yxfUvgY&code_challenge_method=S256\n",
      "\n",
      "Once finished, enter the verification code provided in your browser: 4/0AVMBsJjy25M8BEPcC5dVtrVLNpwso9N88_mMxB7VA5g-HWkpeGLBBJHsqLBthhacgpn-ew\n",
      "\n",
      "Credentials saved to file: [/content/.config/application_default_credentials.json]\n",
      "\n",
      "These credentials will be used by any library that requests Application Default Credentials (ADC).\n",
      "\u001b[1;33mWARNING:\u001b[0m \n",
      "Cannot find a quota project to add to ADC. You might receive a \"quota exceeded\" or \"API not enabled\" error. Run $ gcloud auth application-default set-quota-project to add a quota project.\n"
     ]
    }
   ],
   "source": [
    "# Authenticate Colab session\n",
    "from google.colab import auth\n",
    "auth.authenticate_user()\n",
    "\n",
    "# Set GCS config\n",
    "gcs_bucket = 'california-fire-model'\n",
    "gcs_path = f'gs://{gcs_bucket}'\n",
    "\n",
    "# Login to access Google Cloud\n",
    "!gcloud auth application-default login --quiet\n",
    "\n",
    "# Install required libraries\n",
    "!pip install rasterio geopandas tensorflow tensorflow_io gcsfs --quiet\n"
   ]
  },
  {
   "cell_type": "markdown",
   "metadata": {
    "id": "-HlJPadnTbBe"
   },
   "source": [
    " Patch Extraction Logic\n",
    "This will:\n",
    "\n",
    "Iterate over years 2000–2016 and seasons DJF, MAM, JJA, SON\n",
    "\n",
    "Match EVM and BIM files\n",
    "\n",
    "Extract valid 32×32 patches centered where BIM pixel is 0, 1, or 2\n",
    "\n",
    "Save patches and labels to .npy format"
   ]
  },
  {
   "cell_type": "code",
   "execution_count": null,
   "metadata": {
    "colab": {
     "background_save": true,
     "base_uri": "https://localhost:8080/"
    },
    "id": "tNiiL_lbTW68",
    "outputId": "d286bd25-0ad5-4650-ce72-a2a76a749eef"
   },
   "outputs": [
    {
     "name": "stderr",
     "output_type": "stream",
     "text": [
      "/usr/local/lib/python3.11/dist-packages/google/auth/_default.py:76: UserWarning: Your application has authenticated using end user credentials from Google Cloud SDK without a quota project. You might receive a \"quota exceeded\" or \"API not enabled\" error. See the following page for troubleshooting: https://cloud.google.com/docs/authentication/adc-troubleshooting/user-creds. \n",
      "  warnings.warn(_CLOUD_SDK_CREDENTIALS_WARNING)\n",
      "Processing DJF:   0%|          | 0/17 [00:00<?, ?it/s]/tmp/ipython-input-2-4171324147.py:54: RuntimeWarning: invalid value encountered in cast\n",
      "  y_patches.append(bim_patch.astype(np.uint8))\n",
      "Processing DJF:   6%|▌         | 1/17 [00:04<01:07,  4.19s/it]"
     ]
    },
    {
     "name": "stdout",
     "output_type": "stream",
     "text": [
      "✅ Saved 2246 patches for DJF 2000\n"
     ]
    },
    {
     "name": "stderr",
     "output_type": "stream",
     "text": [
      "\r",
      "Processing DJF:  12%|█▏        | 2/17 [00:07<00:50,  3.40s/it]"
     ]
    },
    {
     "name": "stdout",
     "output_type": "stream",
     "text": [
      "✅ Saved 14 patches for DJF 2001\n"
     ]
    },
    {
     "name": "stderr",
     "output_type": "stream",
     "text": [
      "\r",
      "Processing DJF:  18%|█▊        | 3/17 [00:10<00:44,  3.20s/it]"
     ]
    },
    {
     "name": "stdout",
     "output_type": "stream",
     "text": [
      "✅ Saved 16 patches for DJF 2002\n"
     ]
    },
    {
     "name": "stderr",
     "output_type": "stream",
     "text": [
      "\r",
      "Processing DJF:  24%|██▎       | 4/17 [00:12<00:39,  3.04s/it]"
     ]
    },
    {
     "name": "stdout",
     "output_type": "stream",
     "text": [
      "✅ Saved 15 patches for DJF 2003\n"
     ]
    },
    {
     "name": "stderr",
     "output_type": "stream",
     "text": [
      "\r",
      "Processing DJF:  29%|██▉       | 5/17 [00:16<00:38,  3.22s/it]"
     ]
    },
    {
     "name": "stdout",
     "output_type": "stream",
     "text": [
      "✅ Saved 13 patches for DJF 2004\n"
     ]
    },
    {
     "name": "stderr",
     "output_type": "stream",
     "text": [
      "\r",
      "Processing DJF:  35%|███▌      | 6/17 [00:20<00:38,  3.48s/it]"
     ]
    },
    {
     "name": "stdout",
     "output_type": "stream",
     "text": [
      "✅ Saved 4 patches for DJF 2005\n"
     ]
    },
    {
     "name": "stderr",
     "output_type": "stream",
     "text": [
      "\r",
      "Processing DJF:  41%|████      | 7/17 [00:23<00:33,  3.33s/it]"
     ]
    },
    {
     "name": "stdout",
     "output_type": "stream",
     "text": [
      "✅ Saved 34 patches for DJF 2006\n"
     ]
    },
    {
     "name": "stderr",
     "output_type": "stream",
     "text": [
      "\r",
      "Processing DJF:  47%|████▋     | 8/17 [00:26<00:30,  3.38s/it]"
     ]
    },
    {
     "name": "stdout",
     "output_type": "stream",
     "text": [
      "✅ Saved 28 patches for DJF 2007\n"
     ]
    },
    {
     "name": "stderr",
     "output_type": "stream",
     "text": [
      "\r",
      "Processing DJF:  53%|█████▎    | 9/17 [00:29<00:25,  3.24s/it]"
     ]
    },
    {
     "name": "stdout",
     "output_type": "stream",
     "text": [
      "✅ Saved 10 patches for DJF 2008\n"
     ]
    },
    {
     "name": "stderr",
     "output_type": "stream",
     "text": [
      "\r",
      "Processing DJF:  59%|█████▉    | 10/17 [00:32<00:22,  3.15s/it]"
     ]
    },
    {
     "name": "stdout",
     "output_type": "stream",
     "text": [
      "✅ Saved 20 patches for DJF 2009\n"
     ]
    },
    {
     "name": "stderr",
     "output_type": "stream",
     "text": [
      "\r",
      "Processing DJF:  65%|██████▍   | 11/17 [00:35<00:18,  3.07s/it]"
     ]
    },
    {
     "name": "stdout",
     "output_type": "stream",
     "text": [
      "✅ Saved 11 patches for DJF 2010\n"
     ]
    },
    {
     "name": "stderr",
     "output_type": "stream",
     "text": [
      "\r",
      "Processing DJF:  71%|███████   | 12/17 [00:38<00:15,  3.10s/it]"
     ]
    },
    {
     "name": "stdout",
     "output_type": "stream",
     "text": [
      "✅ Saved 9 patches for DJF 2011\n"
     ]
    },
    {
     "name": "stderr",
     "output_type": "stream",
     "text": [
      "\r",
      "Processing DJF:  76%|███████▋  | 13/17 [00:41<00:12,  3.09s/it]"
     ]
    },
    {
     "name": "stdout",
     "output_type": "stream",
     "text": [
      "✅ Saved 27 patches for DJF 2012\n"
     ]
    },
    {
     "name": "stderr",
     "output_type": "stream",
     "text": [
      "\r",
      "Processing DJF:  82%|████████▏ | 14/17 [00:44<00:09,  3.02s/it]"
     ]
    },
    {
     "name": "stdout",
     "output_type": "stream",
     "text": [
      "✅ Saved 10 patches for DJF 2013\n"
     ]
    },
    {
     "name": "stderr",
     "output_type": "stream",
     "text": [
      "\r",
      "Processing DJF:  88%|████████▊ | 15/17 [00:47<00:06,  3.08s/it]"
     ]
    },
    {
     "name": "stdout",
     "output_type": "stream",
     "text": [
      "✅ Saved 20 patches for DJF 2014\n"
     ]
    },
    {
     "name": "stderr",
     "output_type": "stream",
     "text": [
      "\r",
      "Processing DJF:  94%|█████████▍| 16/17 [00:50<00:03,  3.07s/it]"
     ]
    },
    {
     "name": "stdout",
     "output_type": "stream",
     "text": [
      "✅ Saved 17 patches for DJF 2015\n"
     ]
    },
    {
     "name": "stderr",
     "output_type": "stream",
     "text": [
      "Processing DJF: 100%|██████████| 17/17 [00:53<00:00,  3.17s/it]\n"
     ]
    },
    {
     "name": "stdout",
     "output_type": "stream",
     "text": [
      "✅ Saved 0 patches for DJF 2016\n"
     ]
    },
    {
     "name": "stderr",
     "output_type": "stream",
     "text": [
      "Processing MAM:   6%|▌         | 1/17 [00:02<00:46,  2.88s/it]"
     ]
    },
    {
     "name": "stdout",
     "output_type": "stream",
     "text": [
      "✅ Saved 2246 patches for MAM 2000\n"
     ]
    },
    {
     "name": "stderr",
     "output_type": "stream",
     "text": [
      "\r",
      "Processing MAM:  12%|█▏        | 2/17 [00:05<00:41,  2.75s/it]"
     ]
    },
    {
     "name": "stdout",
     "output_type": "stream",
     "text": [
      "✅ Saved 38 patches for MAM 2001\n"
     ]
    },
    {
     "name": "stderr",
     "output_type": "stream",
     "text": [
      "\r",
      "Processing MAM:  18%|█▊        | 3/17 [00:08<00:39,  2.84s/it]"
     ]
    },
    {
     "name": "stdout",
     "output_type": "stream",
     "text": [
      "✅ Saved 30 patches for MAM 2002\n"
     ]
    },
    {
     "name": "stderr",
     "output_type": "stream",
     "text": [
      "\r",
      "Processing MAM:  24%|██▎       | 4/17 [00:12<00:40,  3.13s/it]"
     ]
    },
    {
     "name": "stdout",
     "output_type": "stream",
     "text": [
      "✅ Saved 45 patches for MAM 2003\n"
     ]
    },
    {
     "name": "stderr",
     "output_type": "stream",
     "text": [
      "\r",
      "Processing MAM:  29%|██▉       | 5/17 [00:15<00:37,  3.10s/it]"
     ]
    },
    {
     "name": "stdout",
     "output_type": "stream",
     "text": [
      "✅ Saved 51 patches for MAM 2004\n"
     ]
    },
    {
     "name": "stderr",
     "output_type": "stream",
     "text": [
      "\r",
      "Processing MAM:  35%|███▌      | 6/17 [00:17<00:32,  3.00s/it]"
     ]
    },
    {
     "name": "stdout",
     "output_type": "stream",
     "text": [
      "✅ Saved 40 patches for MAM 2005\n"
     ]
    },
    {
     "name": "stderr",
     "output_type": "stream",
     "text": [
      "\r",
      "Processing MAM:  41%|████      | 7/17 [00:21<00:30,  3.05s/it]"
     ]
    },
    {
     "name": "stdout",
     "output_type": "stream",
     "text": [
      "✅ Saved 39 patches for MAM 2006\n"
     ]
    },
    {
     "name": "stderr",
     "output_type": "stream",
     "text": [
      "\r",
      "Processing MAM:  47%|████▋     | 8/17 [00:24<00:28,  3.12s/it]"
     ]
    },
    {
     "name": "stdout",
     "output_type": "stream",
     "text": [
      "✅ Saved 50 patches for MAM 2007\n"
     ]
    },
    {
     "name": "stderr",
     "output_type": "stream",
     "text": [
      "\r",
      "Processing MAM:  53%|█████▎    | 9/17 [00:27<00:24,  3.06s/it]"
     ]
    },
    {
     "name": "stdout",
     "output_type": "stream",
     "text": [
      "✅ Saved 42 patches for MAM 2008\n"
     ]
    },
    {
     "name": "stderr",
     "output_type": "stream",
     "text": [
      "\r",
      "Processing MAM:  59%|█████▉    | 10/17 [00:30<00:20,  2.99s/it]"
     ]
    },
    {
     "name": "stdout",
     "output_type": "stream",
     "text": [
      "✅ Saved 50 patches for MAM 2009\n"
     ]
    },
    {
     "name": "stderr",
     "output_type": "stream",
     "text": [
      "\r",
      "Processing MAM:  65%|██████▍   | 11/17 [00:32<00:17,  2.95s/it]"
     ]
    },
    {
     "name": "stdout",
     "output_type": "stream",
     "text": [
      "✅ Saved 27 patches for MAM 2010\n"
     ]
    },
    {
     "name": "stderr",
     "output_type": "stream",
     "text": [
      "\r",
      "Processing MAM:  71%|███████   | 12/17 [00:36<00:15,  3.13s/it]"
     ]
    },
    {
     "name": "stdout",
     "output_type": "stream",
     "text": [
      "✅ Saved 53 patches for MAM 2011\n"
     ]
    },
    {
     "name": "stderr",
     "output_type": "stream",
     "text": [
      "\r",
      "Processing MAM:  76%|███████▋  | 13/17 [00:39<00:11,  2.98s/it]"
     ]
    },
    {
     "name": "stdout",
     "output_type": "stream",
     "text": [
      "✅ Saved 25 patches for MAM 2012\n"
     ]
    },
    {
     "name": "stderr",
     "output_type": "stream",
     "text": [
      "\r",
      "Processing MAM:  82%|████████▏ | 14/17 [00:42<00:08,  2.95s/it]"
     ]
    },
    {
     "name": "stdout",
     "output_type": "stream",
     "text": [
      "✅ Saved 37 patches for MAM 2013\n"
     ]
    },
    {
     "name": "stderr",
     "output_type": "stream",
     "text": [
      "\r",
      "Processing MAM:  88%|████████▊ | 15/17 [00:45<00:05,  2.98s/it]"
     ]
    },
    {
     "name": "stdout",
     "output_type": "stream",
     "text": [
      "✅ Saved 50 patches for MAM 2014\n"
     ]
    },
    {
     "name": "stderr",
     "output_type": "stream",
     "text": [
      "\r",
      "Processing MAM:  94%|█████████▍| 16/17 [00:48<00:03,  3.11s/it]"
     ]
    },
    {
     "name": "stdout",
     "output_type": "stream",
     "text": [
      "✅ Saved 21 patches for MAM 2015\n"
     ]
    },
    {
     "name": "stderr",
     "output_type": "stream",
     "text": [
      "Processing MAM: 100%|██████████| 17/17 [00:51<00:00,  3.02s/it]\n"
     ]
    },
    {
     "name": "stdout",
     "output_type": "stream",
     "text": [
      "✅ Saved 42 patches for MAM 2016\n"
     ]
    },
    {
     "name": "stderr",
     "output_type": "stream",
     "text": [
      "Processing JJA:   6%|▌         | 1/17 [00:02<00:45,  2.84s/it]"
     ]
    },
    {
     "name": "stdout",
     "output_type": "stream",
     "text": [
      "✅ Saved 2246 patches for JJA 2000\n"
     ]
    },
    {
     "name": "stderr",
     "output_type": "stream",
     "text": [
      "\r",
      "Processing JJA:  12%|█▏        | 2/17 [00:05<00:39,  2.61s/it]"
     ]
    },
    {
     "name": "stdout",
     "output_type": "stream",
     "text": [
      "✅ Saved 75 patches for JJA 2001\n"
     ]
    },
    {
     "name": "stderr",
     "output_type": "stream",
     "text": [
      "\r",
      "Processing JJA:  18%|█▊        | 3/17 [00:09<00:44,  3.19s/it]"
     ]
    },
    {
     "name": "stdout",
     "output_type": "stream",
     "text": [
      "✅ Saved 84 patches for JJA 2002\n"
     ]
    },
    {
     "name": "stderr",
     "output_type": "stream",
     "text": [
      "\r",
      "Processing JJA:  24%|██▎       | 4/17 [00:12<00:39,  3.05s/it]"
     ]
    },
    {
     "name": "stdout",
     "output_type": "stream",
     "text": [
      "✅ Saved 127 patches for JJA 2003\n"
     ]
    },
    {
     "name": "stderr",
     "output_type": "stream",
     "text": [
      "\r",
      "Processing JJA:  29%|██▉       | 5/17 [00:14<00:34,  2.87s/it]"
     ]
    },
    {
     "name": "stdout",
     "output_type": "stream",
     "text": [
      "✅ Saved 90 patches for JJA 2004\n"
     ]
    },
    {
     "name": "stderr",
     "output_type": "stream",
     "text": [
      "\r",
      "Processing JJA:  35%|███▌      | 6/17 [00:17<00:31,  2.88s/it]"
     ]
    },
    {
     "name": "stdout",
     "output_type": "stream",
     "text": [
      "✅ Saved 72 patches for JJA 2005\n"
     ]
    },
    {
     "name": "stderr",
     "output_type": "stream",
     "text": [
      "\r",
      "Processing JJA:  41%|████      | 7/17 [00:21<00:31,  3.16s/it]"
     ]
    },
    {
     "name": "stdout",
     "output_type": "stream",
     "text": [
      "✅ Saved 133 patches for JJA 2006\n"
     ]
    },
    {
     "name": "stderr",
     "output_type": "stream",
     "text": [
      "\r",
      "Processing JJA:  47%|████▋     | 8/17 [00:24<00:27,  3.05s/it]"
     ]
    },
    {
     "name": "stdout",
     "output_type": "stream",
     "text": [
      "✅ Saved 74 patches for JJA 2007\n"
     ]
    },
    {
     "name": "stderr",
     "output_type": "stream",
     "text": [
      "\r",
      "Processing JJA:  53%|█████▎    | 9/17 [00:27<00:24,  3.04s/it]"
     ]
    },
    {
     "name": "stdout",
     "output_type": "stream",
     "text": [
      "✅ Saved 197 patches for JJA 2008\n"
     ]
    },
    {
     "name": "stderr",
     "output_type": "stream",
     "text": [
      "\r",
      "Processing JJA:  59%|█████▉    | 10/17 [00:29<00:20,  2.97s/it]"
     ]
    },
    {
     "name": "stdout",
     "output_type": "stream",
     "text": [
      "✅ Saved 112 patches for JJA 2009\n"
     ]
    },
    {
     "name": "stderr",
     "output_type": "stream",
     "text": [
      "\r",
      "Processing JJA:  65%|██████▍   | 11/17 [00:33<00:18,  3.03s/it]"
     ]
    },
    {
     "name": "stdout",
     "output_type": "stream",
     "text": [
      "✅ Saved 74 patches for JJA 2010\n"
     ]
    },
    {
     "name": "stderr",
     "output_type": "stream",
     "text": [
      "\r",
      "Processing JJA:  71%|███████   | 12/17 [00:36<00:15,  3.03s/it]"
     ]
    },
    {
     "name": "stdout",
     "output_type": "stream",
     "text": [
      "✅ Saved 45 patches for JJA 2011\n"
     ]
    },
    {
     "name": "stderr",
     "output_type": "stream",
     "text": [
      "\r",
      "Processing JJA:  76%|███████▋  | 13/17 [00:38<00:11,  2.97s/it]"
     ]
    },
    {
     "name": "stdout",
     "output_type": "stream",
     "text": [
      "✅ Saved 122 patches for JJA 2012\n"
     ]
    },
    {
     "name": "stderr",
     "output_type": "stream",
     "text": [
      "\r",
      "Processing JJA:  82%|████████▏ | 14/17 [00:41<00:08,  2.89s/it]"
     ]
    },
    {
     "name": "stdout",
     "output_type": "stream",
     "text": [
      "✅ Saved 87 patches for JJA 2013\n"
     ]
    },
    {
     "name": "stderr",
     "output_type": "stream",
     "text": [
      "\r",
      "Processing JJA:  88%|████████▊ | 15/17 [00:44<00:05,  2.94s/it]"
     ]
    },
    {
     "name": "stdout",
     "output_type": "stream",
     "text": [
      "✅ Saved 76 patches for JJA 2014\n"
     ]
    },
    {
     "name": "stderr",
     "output_type": "stream",
     "text": [
      "\r",
      "Processing JJA:  94%|█████████▍| 16/17 [00:47<00:02,  2.96s/it]"
     ]
    },
    {
     "name": "stdout",
     "output_type": "stream",
     "text": [
      "✅ Saved 107 patches for JJA 2015\n"
     ]
    },
    {
     "name": "stderr",
     "output_type": "stream",
     "text": [
      "Processing JJA: 100%|██████████| 17/17 [00:50<00:00,  2.96s/it]\n"
     ]
    },
    {
     "name": "stdout",
     "output_type": "stream",
     "text": [
      "✅ Saved 89 patches for JJA 2016\n"
     ]
    },
    {
     "name": "stderr",
     "output_type": "stream",
     "text": [
      "Processing SON:   6%|▌         | 1/17 [00:02<00:41,  2.60s/it]"
     ]
    },
    {
     "name": "stdout",
     "output_type": "stream",
     "text": [
      "✅ Saved 6 patches for SON 2000\n"
     ]
    },
    {
     "name": "stderr",
     "output_type": "stream",
     "text": [
      "\r",
      "Processing SON:  12%|█▏        | 2/17 [00:05<00:37,  2.49s/it]"
     ]
    },
    {
     "name": "stdout",
     "output_type": "stream",
     "text": [
      "✅ Saved 57 patches for SON 2001\n"
     ]
    },
    {
     "name": "stderr",
     "output_type": "stream",
     "text": [
      "\r",
      "Processing SON:  18%|█▊        | 3/17 [00:08<00:39,  2.84s/it]"
     ]
    },
    {
     "name": "stdout",
     "output_type": "stream",
     "text": [
      "✅ Saved 76 patches for SON 2002\n"
     ]
    },
    {
     "name": "stderr",
     "output_type": "stream",
     "text": [
      "\r",
      "Processing SON:  24%|██▎       | 4/17 [00:11<00:36,  2.84s/it]"
     ]
    },
    {
     "name": "stdout",
     "output_type": "stream",
     "text": [
      "✅ Saved 172 patches for SON 2003\n"
     ]
    },
    {
     "name": "stderr",
     "output_type": "stream",
     "text": [
      "\r",
      "Processing SON:  29%|██▉       | 5/17 [00:14<00:34,  2.90s/it]"
     ]
    },
    {
     "name": "stdout",
     "output_type": "stream",
     "text": [
      "✅ Saved 87 patches for SON 2004\n"
     ]
    },
    {
     "name": "stderr",
     "output_type": "stream",
     "text": [
      "\r",
      "Processing SON:  35%|███▌      | 6/17 [00:17<00:32,  2.94s/it]"
     ]
    },
    {
     "name": "stdout",
     "output_type": "stream",
     "text": [
      "✅ Saved 95 patches for SON 2005\n"
     ]
    },
    {
     "name": "stderr",
     "output_type": "stream",
     "text": [
      "\r",
      "Processing SON:  41%|████      | 7/17 [00:20<00:30,  3.00s/it]"
     ]
    },
    {
     "name": "stdout",
     "output_type": "stream",
     "text": [
      "✅ Saved 107 patches for SON 2006\n"
     ]
    },
    {
     "name": "stderr",
     "output_type": "stream",
     "text": [
      "\r",
      "Processing SON:  47%|████▋     | 8/17 [00:22<00:26,  2.92s/it]"
     ]
    },
    {
     "name": "stdout",
     "output_type": "stream",
     "text": [
      "✅ Saved 93 patches for SON 2007\n"
     ]
    },
    {
     "name": "stderr",
     "output_type": "stream",
     "text": [
      "\r",
      "Processing SON:  53%|█████▎    | 9/17 [00:25<00:23,  2.88s/it]"
     ]
    },
    {
     "name": "stdout",
     "output_type": "stream",
     "text": [
      "✅ Saved 97 patches for SON 2008\n"
     ]
    },
    {
     "name": "stderr",
     "output_type": "stream",
     "text": [
      "\r",
      "Processing SON:  59%|█████▉    | 10/17 [00:28<00:19,  2.76s/it]"
     ]
    },
    {
     "name": "stdout",
     "output_type": "stream",
     "text": [
      "✅ Saved 66 patches for SON 2009\n"
     ]
    },
    {
     "name": "stderr",
     "output_type": "stream",
     "text": [
      "\r",
      "Processing SON:  65%|██████▍   | 11/17 [00:31<00:16,  2.77s/it]"
     ]
    },
    {
     "name": "stdout",
     "output_type": "stream",
     "text": [
      "✅ Saved 56 patches for SON 2010\n"
     ]
    },
    {
     "name": "stderr",
     "output_type": "stream",
     "text": [
      "\r",
      "Processing SON:  71%|███████   | 12/17 [00:34<00:14,  2.88s/it]"
     ]
    },
    {
     "name": "stdout",
     "output_type": "stream",
     "text": [
      "✅ Saved 80 patches for SON 2011\n"
     ]
    },
    {
     "name": "stderr",
     "output_type": "stream",
     "text": [
      "\r",
      "Processing SON:  76%|███████▋  | 13/17 [00:36<00:11,  2.83s/it]"
     ]
    },
    {
     "name": "stdout",
     "output_type": "stream",
     "text": [
      "✅ Saved 69 patches for SON 2012\n"
     ]
    },
    {
     "name": "stderr",
     "output_type": "stream",
     "text": [
      "\r",
      "Processing SON:  82%|████████▏ | 14/17 [00:39<00:08,  2.85s/it]"
     ]
    },
    {
     "name": "stdout",
     "output_type": "stream",
     "text": [
      "✅ Saved 55 patches for SON 2013\n"
     ]
    },
    {
     "name": "stderr",
     "output_type": "stream",
     "text": [
      "\r",
      "Processing SON:  88%|████████▊ | 15/17 [00:43<00:05,  2.96s/it]"
     ]
    },
    {
     "name": "stdout",
     "output_type": "stream",
     "text": [
      "✅ Saved 51 patches for SON 2014\n"
     ]
    },
    {
     "name": "stderr",
     "output_type": "stream",
     "text": [
      "\r",
      "Processing SON:  94%|█████████▍| 16/17 [00:46<00:03,  3.03s/it]"
     ]
    },
    {
     "name": "stdout",
     "output_type": "stream",
     "text": [
      "✅ Saved 68 patches for SON 2015\n"
     ]
    },
    {
     "name": "stderr",
     "output_type": "stream",
     "text": [
      "Processing SON: 100%|██████████| 17/17 [00:48<00:00,  2.87s/it]"
     ]
    },
    {
     "name": "stdout",
     "output_type": "stream",
     "text": [
      "✅ Saved 48 patches for SON 2016\n"
     ]
    },
    {
     "name": "stderr",
     "output_type": "stream",
     "text": [
      "\n"
     ]
    }
   ],
   "source": [
    "# Colab-compatible memory-efficient patch extraction\n",
    "\n",
    "import os\n",
    "import numpy as np\n",
    "import rasterio\n",
    "from rasterio.windows import Window\n",
    "from google.cloud import storage\n",
    "from tqdm import tqdm\n",
    "\n",
    "# Define parameters\n",
    "gcs_bucket = 'california-fire-model'\n",
    "gcs_path = f'gs://{gcs_bucket}'\n",
    "local_evm_dir = '/content/evms'\n",
    "local_bim_dir = '/content/bims'\n",
    "output_patch_dir = '/content/patches'\n",
    "\n",
    "os.makedirs(local_evm_dir, exist_ok=True)\n",
    "os.makedirs(local_bim_dir, exist_ok=True)\n",
    "os.makedirs(output_patch_dir, exist_ok=True)\n",
    "\n",
    "seasons = ['DJF', 'MAM', 'JJA', 'SON']\n",
    "years = list(range(2000, 2017))  # Only training years\n",
    "patch_size = 32\n",
    "\n",
    "# Initialize GCS client\n",
    "client = storage.Client(project=\"california-fire-model\")\n",
    "\n",
    "\n",
    "# Helper: Download file from GCS\n",
    "def download_blob(gcs_uri, local_path):\n",
    "    bucket_name = gcs_uri.split('/')[2]\n",
    "    blob_path = '/'.join(gcs_uri.split('/')[3:])\n",
    "    bucket = client.bucket(bucket_name)\n",
    "    blob = bucket.blob(blob_path)\n",
    "    blob.download_to_filename(local_path)\n",
    "\n",
    "# Helper: Extract patches\n",
    "\n",
    "def extract_and_save_patches(evm_path, bim_path, season, year):\n",
    "    with rasterio.open(evm_path) as evm_src, rasterio.open(bim_path) as bim_src:\n",
    "        height, width = bim_src.shape\n",
    "        evm_data = evm_src.read()  # shape: (bands, height, width)\n",
    "        bim_data = bim_src.read(1)  # shape: (height, width)\n",
    "\n",
    "        X_patches = []\n",
    "        y_patches = []\n",
    "\n",
    "        for i in range(0, height - patch_size, patch_size):\n",
    "            for j in range(0, width - patch_size, patch_size):\n",
    "                bim_patch = bim_data[i:i+patch_size, j:j+patch_size]\n",
    "                if np.any(np.isin(bim_patch, [0, 1, 2])):\n",
    "                    evm_patch = evm_data[:, i:i+patch_size, j:j+patch_size]  # shape: (bands, 32, 32)\n",
    "                    X_patches.append(evm_patch.astype(np.float32))\n",
    "                    y_patches.append(bim_patch.astype(np.uint8))\n",
    "\n",
    "        X_patches = np.array(X_patches)\n",
    "        y_patches = np.array(y_patches)\n",
    "\n",
    "        # Save to .npy\n",
    "        np.save(os.path.join(output_patch_dir, f'X_{season}_{year}.npy'), X_patches)\n",
    "        np.save(os.path.join(output_patch_dir, f'y_{season}_{year}.npy'), y_patches)\n",
    "        print(f\"✅ Saved {len(X_patches)} patches for {season} {year}\")\n",
    "\n",
    "# Main loop\n",
    "for season in seasons:\n",
    "    for year in tqdm(years, desc=f\"Processing {season}\"):\n",
    "        evm_gcs = f'{gcs_path}/evms/{season}/EVM_{season}_{year}.tif'\n",
    "        bim_gcs = f'{gcs_path}/bims/{season}/BIM_{season}_{year}.tif'\n",
    "\n",
    "        local_evm = os.path.join(local_evm_dir, f'EVM_{season}_{year}.tif')\n",
    "        local_bim = os.path.join(local_bim_dir, f'BIM_{season}_{year}.tif')\n",
    "\n",
    "        try:\n",
    "            download_blob(evm_gcs, local_evm)\n",
    "            download_blob(bim_gcs, local_bim)\n",
    "            extract_and_save_patches(local_evm, local_bim, season, year)\n",
    "        except Exception as e:\n",
    "            print(f\"❌ Error processing {season} {year}: {e}\")\n"
   ]
  },
  {
   "cell_type": "code",
   "execution_count": null,
   "metadata": {
    "colab": {
     "base_uri": "https://localhost:8080/",
     "height": 39
    },
    "id": "iQSZOdEWjsst",
    "outputId": "b475598e-5921-4a1f-9d4c-52a3e22a461b"
   },
   "outputs": [
    {
     "data": {
      "text/html": [
       "\n",
       "     <input type=\"file\" id=\"files-1a38147a-33cb-4d1d-b332-8234c0fcbd97\" name=\"files[]\" multiple disabled\n",
       "        style=\"border:none\" />\n",
       "     <output id=\"result-1a38147a-33cb-4d1d-b332-8234c0fcbd97\">\n",
       "      Upload widget is only available when the cell has been executed in the\n",
       "      current browser session. Please rerun this cell to enable.\n",
       "      </output>\n",
       "      <script>// Copyright 2017 Google LLC\n",
       "//\n",
       "// Licensed under the Apache License, Version 2.0 (the \"License\");\n",
       "// you may not use this file except in compliance with the License.\n",
       "// You may obtain a copy of the License at\n",
       "//\n",
       "//      http://www.apache.org/licenses/LICENSE-2.0\n",
       "//\n",
       "// Unless required by applicable law or agreed to in writing, software\n",
       "// distributed under the License is distributed on an \"AS IS\" BASIS,\n",
       "// WITHOUT WARRANTIES OR CONDITIONS OF ANY KIND, either express or implied.\n",
       "// See the License for the specific language governing permissions and\n",
       "// limitations under the License.\n",
       "\n",
       "/**\n",
       " * @fileoverview Helpers for google.colab Python module.\n",
       " */\n",
       "(function(scope) {\n",
       "function span(text, styleAttributes = {}) {\n",
       "  const element = document.createElement('span');\n",
       "  element.textContent = text;\n",
       "  for (const key of Object.keys(styleAttributes)) {\n",
       "    element.style[key] = styleAttributes[key];\n",
       "  }\n",
       "  return element;\n",
       "}\n",
       "\n",
       "// Max number of bytes which will be uploaded at a time.\n",
       "const MAX_PAYLOAD_SIZE = 100 * 1024;\n",
       "\n",
       "function _uploadFiles(inputId, outputId) {\n",
       "  const steps = uploadFilesStep(inputId, outputId);\n",
       "  const outputElement = document.getElementById(outputId);\n",
       "  // Cache steps on the outputElement to make it available for the next call\n",
       "  // to uploadFilesContinue from Python.\n",
       "  outputElement.steps = steps;\n",
       "\n",
       "  return _uploadFilesContinue(outputId);\n",
       "}\n",
       "\n",
       "// This is roughly an async generator (not supported in the browser yet),\n",
       "// where there are multiple asynchronous steps and the Python side is going\n",
       "// to poll for completion of each step.\n",
       "// This uses a Promise to block the python side on completion of each step,\n",
       "// then passes the result of the previous step as the input to the next step.\n",
       "function _uploadFilesContinue(outputId) {\n",
       "  const outputElement = document.getElementById(outputId);\n",
       "  const steps = outputElement.steps;\n",
       "\n",
       "  const next = steps.next(outputElement.lastPromiseValue);\n",
       "  return Promise.resolve(next.value.promise).then((value) => {\n",
       "    // Cache the last promise value to make it available to the next\n",
       "    // step of the generator.\n",
       "    outputElement.lastPromiseValue = value;\n",
       "    return next.value.response;\n",
       "  });\n",
       "}\n",
       "\n",
       "/**\n",
       " * Generator function which is called between each async step of the upload\n",
       " * process.\n",
       " * @param {string} inputId Element ID of the input file picker element.\n",
       " * @param {string} outputId Element ID of the output display.\n",
       " * @return {!Iterable<!Object>} Iterable of next steps.\n",
       " */\n",
       "function* uploadFilesStep(inputId, outputId) {\n",
       "  const inputElement = document.getElementById(inputId);\n",
       "  inputElement.disabled = false;\n",
       "\n",
       "  const outputElement = document.getElementById(outputId);\n",
       "  outputElement.innerHTML = '';\n",
       "\n",
       "  const pickedPromise = new Promise((resolve) => {\n",
       "    inputElement.addEventListener('change', (e) => {\n",
       "      resolve(e.target.files);\n",
       "    });\n",
       "  });\n",
       "\n",
       "  const cancel = document.createElement('button');\n",
       "  inputElement.parentElement.appendChild(cancel);\n",
       "  cancel.textContent = 'Cancel upload';\n",
       "  const cancelPromise = new Promise((resolve) => {\n",
       "    cancel.onclick = () => {\n",
       "      resolve(null);\n",
       "    };\n",
       "  });\n",
       "\n",
       "  // Wait for the user to pick the files.\n",
       "  const files = yield {\n",
       "    promise: Promise.race([pickedPromise, cancelPromise]),\n",
       "    response: {\n",
       "      action: 'starting',\n",
       "    }\n",
       "  };\n",
       "\n",
       "  cancel.remove();\n",
       "\n",
       "  // Disable the input element since further picks are not allowed.\n",
       "  inputElement.disabled = true;\n",
       "\n",
       "  if (!files) {\n",
       "    return {\n",
       "      response: {\n",
       "        action: 'complete',\n",
       "      }\n",
       "    };\n",
       "  }\n",
       "\n",
       "  for (const file of files) {\n",
       "    const li = document.createElement('li');\n",
       "    li.append(span(file.name, {fontWeight: 'bold'}));\n",
       "    li.append(span(\n",
       "        `(${file.type || 'n/a'}) - ${file.size} bytes, ` +\n",
       "        `last modified: ${\n",
       "            file.lastModifiedDate ? file.lastModifiedDate.toLocaleDateString() :\n",
       "                                    'n/a'} - `));\n",
       "    const percent = span('0% done');\n",
       "    li.appendChild(percent);\n",
       "\n",
       "    outputElement.appendChild(li);\n",
       "\n",
       "    const fileDataPromise = new Promise((resolve) => {\n",
       "      const reader = new FileReader();\n",
       "      reader.onload = (e) => {\n",
       "        resolve(e.target.result);\n",
       "      };\n",
       "      reader.readAsArrayBuffer(file);\n",
       "    });\n",
       "    // Wait for the data to be ready.\n",
       "    let fileData = yield {\n",
       "      promise: fileDataPromise,\n",
       "      response: {\n",
       "        action: 'continue',\n",
       "      }\n",
       "    };\n",
       "\n",
       "    // Use a chunked sending to avoid message size limits. See b/62115660.\n",
       "    let position = 0;\n",
       "    do {\n",
       "      const length = Math.min(fileData.byteLength - position, MAX_PAYLOAD_SIZE);\n",
       "      const chunk = new Uint8Array(fileData, position, length);\n",
       "      position += length;\n",
       "\n",
       "      const base64 = btoa(String.fromCharCode.apply(null, chunk));\n",
       "      yield {\n",
       "        response: {\n",
       "          action: 'append',\n",
       "          file: file.name,\n",
       "          data: base64,\n",
       "        },\n",
       "      };\n",
       "\n",
       "      let percentDone = fileData.byteLength === 0 ?\n",
       "          100 :\n",
       "          Math.round((position / fileData.byteLength) * 100);\n",
       "      percent.textContent = `${percentDone}% done`;\n",
       "\n",
       "    } while (position < fileData.byteLength);\n",
       "  }\n",
       "\n",
       "  // All done.\n",
       "  yield {\n",
       "    response: {\n",
       "      action: 'complete',\n",
       "    }\n",
       "  };\n",
       "}\n",
       "\n",
       "scope.google = scope.google || {};\n",
       "scope.google.colab = scope.google.colab || {};\n",
       "scope.google.colab._files = {\n",
       "  _uploadFiles,\n",
       "  _uploadFilesContinue,\n",
       "};\n",
       "})(self);\n",
       "</script> "
      ],
      "text/plain": [
       "<IPython.core.display.HTML object>"
      ]
     },
     "metadata": {},
     "output_type": "display_data"
    }
   ],
   "source": [
    "from google.colab import files\n",
    "uploaded = files.upload()\n"
   ]
  },
  {
   "cell_type": "code",
   "execution_count": 3,
   "metadata": {
    "colab": {
     "base_uri": "https://localhost:8080/",
     "height": 216
    },
    "id": "oDgoZo1ojSa6",
    "outputId": "f6b197b4-4fd4-408c-9cba-71d3aca89d92"
   },
   "outputs": [
    {
     "ename": "FileNotFoundError",
     "evalue": "[Errno 2] No such file or directory: 'wildfire_model.ipynb'",
     "output_type": "error",
     "traceback": [
      "\u001b[0;31m---------------------------------------------------------------------------\u001b[0m",
      "\u001b[0;31mFileNotFoundError\u001b[0m                         Traceback (most recent call last)",
      "\u001b[0;32m/tmp/ipython-input-3-2273536245.py\u001b[0m in \u001b[0;36m<cell line: 0>\u001b[0;34m()\u001b[0m\n\u001b[1;32m      4\u001b[0m \u001b[0mnotebook_path\u001b[0m \u001b[0;34m=\u001b[0m \u001b[0;34m\"wildfire_model.ipynb\"\u001b[0m\u001b[0;34m\u001b[0m\u001b[0;34m\u001b[0m\u001b[0m\n\u001b[1;32m      5\u001b[0m \u001b[0;34m\u001b[0m\u001b[0m\n\u001b[0;32m----> 6\u001b[0;31m \u001b[0;32mwith\u001b[0m \u001b[0mopen\u001b[0m\u001b[0;34m(\u001b[0m\u001b[0mnotebook_path\u001b[0m\u001b[0;34m,\u001b[0m \u001b[0;34m\"r\"\u001b[0m\u001b[0;34m,\u001b[0m \u001b[0mencoding\u001b[0m\u001b[0;34m=\u001b[0m\u001b[0;34m\"utf-8\"\u001b[0m\u001b[0;34m)\u001b[0m \u001b[0;32mas\u001b[0m \u001b[0mf\u001b[0m\u001b[0;34m:\u001b[0m\u001b[0;34m\u001b[0m\u001b[0;34m\u001b[0m\u001b[0m\n\u001b[0m\u001b[1;32m      7\u001b[0m     \u001b[0mnb\u001b[0m \u001b[0;34m=\u001b[0m \u001b[0mnbformat\u001b[0m\u001b[0;34m.\u001b[0m\u001b[0mread\u001b[0m\u001b[0;34m(\u001b[0m\u001b[0mf\u001b[0m\u001b[0;34m,\u001b[0m \u001b[0mas_version\u001b[0m\u001b[0;34m=\u001b[0m\u001b[0mnbformat\u001b[0m\u001b[0;34m.\u001b[0m\u001b[0mNO_CONVERT\u001b[0m\u001b[0;34m)\u001b[0m\u001b[0;34m\u001b[0m\u001b[0;34m\u001b[0m\u001b[0m\n\u001b[1;32m      8\u001b[0m \u001b[0;34m\u001b[0m\u001b[0m\n",
      "\u001b[0;31mFileNotFoundError\u001b[0m: [Errno 2] No such file or directory: 'wildfire_model.ipynb'"
     ]
    }
   ],
   "source": [
    "import nbformat\n",
    "\n",
    "# Replace with your actual notebook file\n",
    "notebook_path = \"wildfire_model.ipynb\"\n",
    "\n",
    "with open(notebook_path, \"r\", encoding=\"utf-8\") as f:\n",
    "    nb = nbformat.read(f, as_version=nbformat.NO_CONVERT)\n",
    "\n",
    "# Remove the faulty metadata\n",
    "if \"widgets\" in nb.metadata:\n",
    "    del nb.metadata[\"widgets\"]\n",
    "\n",
    "# Also clean per-cell widget metadata\n",
    "for cell in nb.cells:\n",
    "    if \"widgets\" in cell.get(\"metadata\", {}):\n",
    "        del cell[\"metadata\"][\"widgets\"]\n",
    "\n",
    "# Save the cleaned notebook\n",
    "with open(\"cleaned_notebook.ipynb\", \"w\", encoding=\"utf-8\") as f:\n",
    "    nbformat.write(nb, f)\n",
    "\n",
    "print(\"Notebook cleaned and saved as cleaned_notebook.ipynb\")\n"
   ]
  }
 ],
 "metadata": {
  "colab": {
   "provenance": []
  },
  "kernelspec": {
   "display_name": "Python 3",
   "name": "python3"
  },
  "language_info": {
   "name": "python"
  }
 },
 "nbformat": 4,
 "nbformat_minor": 0
}
